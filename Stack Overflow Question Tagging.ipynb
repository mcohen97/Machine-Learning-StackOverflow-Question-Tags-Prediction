{
 "cells": [
  {
   "cell_type": "code",
   "execution_count": 1,
   "metadata": {},
   "outputs": [],
   "source": [
    "import pandas as pd\n",
    "import numpy as np"
   ]
  },
  {
   "cell_type": "code",
   "execution_count": 2,
   "metadata": {},
   "outputs": [
    {
     "name": "stderr",
     "output_type": "stream",
     "text": [
      "Using TensorFlow backend.\n"
     ]
    }
   ],
   "source": [
    "import keras\n",
    "from keras.models import Sequential\n",
    "from keras.layers import Dense, Dropout, Flatten\n",
    "from keras.utils import Sequence\n",
    "from keras.callbacks import TensorBoard, Callback\n",
    "from keras.optimizers import SGD, Adam\n",
    "from keras import backend as K"
   ]
  },
  {
   "cell_type": "code",
   "execution_count": 3,
   "metadata": {},
   "outputs": [],
   "source": [
    "from sklearn.metrics import confusion_matrix\n",
    "from sklearn.metrics import classification_report\n",
    "from sklearn.metrics import roc_curve, auc\n",
    "from sklearn.metrics import precision_recall_curve\n",
    "from sklearn.metrics import average_precision_score\n",
    "from sklearn.feature_extraction.text import CountVectorizer, TfidfTransformer, TfidfVectorizer\n",
    "from sklearn.utils.class_weight import compute_class_weight #UPDATE 28/11\n",
    "from sklearn.model_selection import train_test_split"
   ]
  },
  {
   "cell_type": "code",
   "execution_count": 4,
   "metadata": {},
   "outputs": [],
   "source": [
    "import matplotlib.pyplot as plt\n",
    "%matplotlib inline"
   ]
  },
  {
   "cell_type": "code",
   "execution_count": 5,
   "metadata": {},
   "outputs": [],
   "source": [
    "import sys\n",
    "import os"
   ]
  },
  {
   "cell_type": "code",
   "execution_count": 6,
   "metadata": {},
   "outputs": [],
   "source": [
    "from nltk import FreqDist\n",
    "from nltk import word_tokenize\n",
    "import seaborn as sns"
   ]
  },
  {
   "cell_type": "markdown",
   "metadata": {},
   "source": [
    "# Carga de datos"
   ]
  },
  {
   "cell_type": "code",
   "execution_count": 7,
   "metadata": {},
   "outputs": [],
   "source": [
    "df_folder = \"10\""
   ]
  },
  {
   "cell_type": "code",
   "execution_count": 8,
   "metadata": {},
   "outputs": [],
   "source": [
    "q_data = pd.read_csv(os.path.join(df_folder, \"Questions.csv\"),encoding='latin1')"
   ]
  },
  {
   "cell_type": "code",
   "execution_count": 9,
   "metadata": {},
   "outputs": [],
   "source": [
    "t_data = pd.read_csv(os.path.join(df_folder,\"Tags.csv\"),encoding='latin1')"
   ]
  },
  {
   "cell_type": "code",
   "execution_count": 10,
   "metadata": {},
   "outputs": [],
   "source": [
    "a_data = pd.read_csv(os.path.join(df_folder,\"Answers.csv\"),encoding='latin1')"
   ]
  },
  {
   "cell_type": "markdown",
   "metadata": {},
   "source": [
    "# Exploración\n",
    "\n",
    "Exploración básica"
   ]
  },
  {
   "cell_type": "markdown",
   "metadata": {},
   "source": [
    "#### atributos a referenciar:\n"
   ]
  },
  {
   "cell_type": "code",
   "execution_count": 11,
   "metadata": {},
   "outputs": [],
   "source": [
    "c_question = \"Body\"\n",
    "c_title = \"Title\"\n",
    "c_id = \"Id\""
   ]
  },
  {
   "cell_type": "code",
   "execution_count": 12,
   "metadata": {},
   "outputs": [
    {
     "data": {
      "text/plain": [
       "'Questions'"
      ]
     },
     "metadata": {},
     "output_type": "display_data"
    },
    {
     "data": {
      "text/html": [
       "<div>\n",
       "<style scoped>\n",
       "    .dataframe tbody tr th:only-of-type {\n",
       "        vertical-align: middle;\n",
       "    }\n",
       "\n",
       "    .dataframe tbody tr th {\n",
       "        vertical-align: top;\n",
       "    }\n",
       "\n",
       "    .dataframe thead th {\n",
       "        text-align: right;\n",
       "    }\n",
       "</style>\n",
       "<table border=\"1\" class=\"dataframe\">\n",
       "  <thead>\n",
       "    <tr style=\"text-align: right;\">\n",
       "      <th></th>\n",
       "      <th>Unnamed: 0</th>\n",
       "      <th>Id</th>\n",
       "      <th>OwnerUserId</th>\n",
       "      <th>CreationDate</th>\n",
       "      <th>ClosedDate</th>\n",
       "      <th>Score</th>\n",
       "      <th>Title</th>\n",
       "      <th>Body</th>\n",
       "    </tr>\n",
       "  </thead>\n",
       "  <tbody>\n",
       "    <tr>\n",
       "      <td>0</td>\n",
       "      <td>345874</td>\n",
       "      <td>12395950</td>\n",
       "      <td>795000.0</td>\n",
       "      <td>2012-09-12T20:45:35Z</td>\n",
       "      <td>2016-10-05T20:53:44Z</td>\n",
       "      <td>2</td>\n",
       "      <td>Calling Twain driver from 64 bit application</td>\n",
       "      <td>&lt;p&gt;I need to call TWAIN API from .NET (C#) app...</td>\n",
       "    </tr>\n",
       "    <tr>\n",
       "      <td>1</td>\n",
       "      <td>654403</td>\n",
       "      <td>22426350</td>\n",
       "      <td>1378959.0</td>\n",
       "      <td>2014-03-15T16:17:17Z</td>\n",
       "      <td>NaN</td>\n",
       "      <td>0</td>\n",
       "      <td>Why does variable in struct instance change af...</td>\n",
       "      <td>&lt;p&gt;This is really weird.&lt;/p&gt;\\r\\n\\r\\n&lt;p&gt;I have ...</td>\n",
       "    </tr>\n",
       "    <tr>\n",
       "      <td>2</td>\n",
       "      <td>574386</td>\n",
       "      <td>19842160</td>\n",
       "      <td>2429569.0</td>\n",
       "      <td>2013-11-07T17:07:34Z</td>\n",
       "      <td>NaN</td>\n",
       "      <td>0</td>\n",
       "      <td>dynamically creating text fields lands up in d...</td>\n",
       "      <td>&lt;p&gt;I'm having issues with the below code,\\r\\nw...</td>\n",
       "    </tr>\n",
       "    <tr>\n",
       "      <td>3</td>\n",
       "      <td>671187</td>\n",
       "      <td>22953000</td>\n",
       "      <td>3513576.0</td>\n",
       "      <td>2014-04-09T04:48:04Z</td>\n",
       "      <td>NaN</td>\n",
       "      <td>0</td>\n",
       "      <td>Javascript in PHP/HTML hiding Div not working</td>\n",
       "      <td>&lt;p&gt;I am new to coding so be gentle.  I am buil...</td>\n",
       "    </tr>\n",
       "    <tr>\n",
       "      <td>4</td>\n",
       "      <td>1088725</td>\n",
       "      <td>35528560</td>\n",
       "      <td>1712334.0</td>\n",
       "      <td>2016-02-20T20:24:29Z</td>\n",
       "      <td>NaN</td>\n",
       "      <td>0</td>\n",
       "      <td>Design a compareTo that can sort in ascending ...</td>\n",
       "      <td>&lt;p&gt;I have a class States that is an object tha...</td>\n",
       "    </tr>\n",
       "  </tbody>\n",
       "</table>\n",
       "</div>"
      ],
      "text/plain": [
       "   Unnamed: 0        Id  OwnerUserId          CreationDate  \\\n",
       "0      345874  12395950     795000.0  2012-09-12T20:45:35Z   \n",
       "1      654403  22426350    1378959.0  2014-03-15T16:17:17Z   \n",
       "2      574386  19842160    2429569.0  2013-11-07T17:07:34Z   \n",
       "3      671187  22953000    3513576.0  2014-04-09T04:48:04Z   \n",
       "4     1088725  35528560    1712334.0  2016-02-20T20:24:29Z   \n",
       "\n",
       "             ClosedDate  Score  \\\n",
       "0  2016-10-05T20:53:44Z      2   \n",
       "1                   NaN      0   \n",
       "2                   NaN      0   \n",
       "3                   NaN      0   \n",
       "4                   NaN      0   \n",
       "\n",
       "                                               Title  \\\n",
       "0       Calling Twain driver from 64 bit application   \n",
       "1  Why does variable in struct instance change af...   \n",
       "2  dynamically creating text fields lands up in d...   \n",
       "3      Javascript in PHP/HTML hiding Div not working   \n",
       "4  Design a compareTo that can sort in ascending ...   \n",
       "\n",
       "                                                Body  \n",
       "0  <p>I need to call TWAIN API from .NET (C#) app...  \n",
       "1  <p>This is really weird.</p>\\r\\n\\r\\n<p>I have ...  \n",
       "2  <p>I'm having issues with the below code,\\r\\nw...  \n",
       "3  <p>I am new to coding so be gentle.  I am buil...  \n",
       "4  <p>I have a class States that is an object tha...  "
      ]
     },
     "metadata": {},
     "output_type": "display_data"
    },
    {
     "data": {
      "text/plain": [
       "(126422, 8)"
      ]
     },
     "metadata": {},
     "output_type": "display_data"
    },
    {
     "data": {
      "text/plain": [
       "'Tags'"
      ]
     },
     "metadata": {},
     "output_type": "display_data"
    },
    {
     "data": {
      "text/html": [
       "<div>\n",
       "<style scoped>\n",
       "    .dataframe tbody tr th:only-of-type {\n",
       "        vertical-align: middle;\n",
       "    }\n",
       "\n",
       "    .dataframe tbody tr th {\n",
       "        vertical-align: top;\n",
       "    }\n",
       "\n",
       "    .dataframe thead th {\n",
       "        text-align: right;\n",
       "    }\n",
       "</style>\n",
       "<table border=\"1\" class=\"dataframe\">\n",
       "  <thead>\n",
       "    <tr style=\"text-align: right;\">\n",
       "      <th></th>\n",
       "      <th>Unnamed: 0</th>\n",
       "      <th>Id</th>\n",
       "      <th>Tag</th>\n",
       "    </tr>\n",
       "  </thead>\n",
       "  <tbody>\n",
       "    <tr>\n",
       "      <td>0</td>\n",
       "      <td>10</td>\n",
       "      <td>180</td>\n",
       "      <td>algorithm</td>\n",
       "    </tr>\n",
       "    <tr>\n",
       "      <td>1</td>\n",
       "      <td>11</td>\n",
       "      <td>180</td>\n",
       "      <td>language-agnostic</td>\n",
       "    </tr>\n",
       "    <tr>\n",
       "      <td>2</td>\n",
       "      <td>12</td>\n",
       "      <td>180</td>\n",
       "      <td>colors</td>\n",
       "    </tr>\n",
       "    <tr>\n",
       "      <td>3</td>\n",
       "      <td>13</td>\n",
       "      <td>180</td>\n",
       "      <td>color-space</td>\n",
       "    </tr>\n",
       "    <tr>\n",
       "      <td>4</td>\n",
       "      <td>31</td>\n",
       "      <td>810</td>\n",
       "      <td>windows</td>\n",
       "    </tr>\n",
       "  </tbody>\n",
       "</table>\n",
       "</div>"
      ],
      "text/plain": [
       "   Unnamed: 0   Id                Tag\n",
       "0          10  180          algorithm\n",
       "1          11  180  language-agnostic\n",
       "2          12  180             colors\n",
       "3          13  180        color-space\n",
       "4          31  810            windows"
      ]
     },
     "metadata": {},
     "output_type": "display_data"
    },
    {
     "data": {
      "text/plain": [
       "(374632, 3)"
      ]
     },
     "metadata": {},
     "output_type": "display_data"
    },
    {
     "data": {
      "text/plain": [
       "'Answers'"
      ]
     },
     "metadata": {},
     "output_type": "display_data"
    },
    {
     "data": {
      "text/html": [
       "<div>\n",
       "<style scoped>\n",
       "    .dataframe tbody tr th:only-of-type {\n",
       "        vertical-align: middle;\n",
       "    }\n",
       "\n",
       "    .dataframe tbody tr th {\n",
       "        vertical-align: top;\n",
       "    }\n",
       "\n",
       "    .dataframe thead th {\n",
       "        text-align: right;\n",
       "    }\n",
       "</style>\n",
       "<table border=\"1\" class=\"dataframe\">\n",
       "  <thead>\n",
       "    <tr style=\"text-align: right;\">\n",
       "      <th></th>\n",
       "      <th>Unnamed: 0</th>\n",
       "      <th>Id</th>\n",
       "      <th>OwnerUserId</th>\n",
       "      <th>CreationDate</th>\n",
       "      <th>ParentId</th>\n",
       "      <th>Score</th>\n",
       "      <th>Body</th>\n",
       "    </tr>\n",
       "  </thead>\n",
       "  <tbody>\n",
       "    <tr>\n",
       "      <td>0</td>\n",
       "      <td>2</td>\n",
       "      <td>199</td>\n",
       "      <td>50.0</td>\n",
       "      <td>2008-08-01T19:36:46Z</td>\n",
       "      <td>180</td>\n",
       "      <td>1</td>\n",
       "      <td>&lt;p&gt;I've read somewhere the human eye can't dis...</td>\n",
       "    </tr>\n",
       "    <tr>\n",
       "      <td>1</td>\n",
       "      <td>9</td>\n",
       "      <td>529</td>\n",
       "      <td>86.0</td>\n",
       "      <td>2008-08-02T18:16:07Z</td>\n",
       "      <td>180</td>\n",
       "      <td>3</td>\n",
       "      <td>&lt;p&gt;Isn't it also a factor which order you set ...</td>\n",
       "    </tr>\n",
       "    <tr>\n",
       "      <td>2</td>\n",
       "      <td>10</td>\n",
       "      <td>539</td>\n",
       "      <td>157.0</td>\n",
       "      <td>2008-08-02T19:03:52Z</td>\n",
       "      <td>180</td>\n",
       "      <td>21</td>\n",
       "      <td>&lt;p&gt;My first thought on this is \"how generate N...</td>\n",
       "    </tr>\n",
       "    <tr>\n",
       "      <td>3</td>\n",
       "      <td>18</td>\n",
       "      <td>818</td>\n",
       "      <td>233.0</td>\n",
       "      <td>2008-08-03T20:45:27Z</td>\n",
       "      <td>810</td>\n",
       "      <td>0</td>\n",
       "      <td>&lt;p&gt;I'm partway to my solution with this entry ...</td>\n",
       "    </tr>\n",
       "    <tr>\n",
       "      <td>4</td>\n",
       "      <td>19</td>\n",
       "      <td>820</td>\n",
       "      <td>91.0</td>\n",
       "      <td>2008-08-03T20:48:47Z</td>\n",
       "      <td>810</td>\n",
       "      <td>3</td>\n",
       "      <td>&lt;p&gt;First: Yes, this is something that belongs ...</td>\n",
       "    </tr>\n",
       "  </tbody>\n",
       "</table>\n",
       "</div>"
      ],
      "text/plain": [
       "   Unnamed: 0   Id  OwnerUserId          CreationDate  ParentId  Score  \\\n",
       "0           2  199         50.0  2008-08-01T19:36:46Z       180      1   \n",
       "1           9  529         86.0  2008-08-02T18:16:07Z       180      3   \n",
       "2          10  539        157.0  2008-08-02T19:03:52Z       180     21   \n",
       "3          18  818        233.0  2008-08-03T20:45:27Z       810      0   \n",
       "4          19  820         91.0  2008-08-03T20:48:47Z       810      3   \n",
       "\n",
       "                                                Body  \n",
       "0  <p>I've read somewhere the human eye can't dis...  \n",
       "1  <p>Isn't it also a factor which order you set ...  \n",
       "2  <p>My first thought on this is \"how generate N...  \n",
       "3  <p>I'm partway to my solution with this entry ...  \n",
       "4  <p>First: Yes, this is something that belongs ...  "
      ]
     },
     "metadata": {},
     "output_type": "display_data"
    },
    {
     "data": {
      "text/plain": [
       "(200926, 7)"
      ]
     },
     "metadata": {},
     "output_type": "display_data"
    }
   ],
   "source": [
    "display(\"Questions\")\n",
    "display(q_data.head())\n",
    "display(q_data.shape)\n",
    "display(\"Tags\")\n",
    "display(t_data.head())\n",
    "display(t_data.shape)\n",
    "display(\"Answers\")\n",
    "display(a_data.head())\n",
    "display(a_data.shape)"
   ]
  },
  {
   "cell_type": "code",
   "execution_count": 13,
   "metadata": {},
   "outputs": [],
   "source": [
    "def plot_top_words(indexes, data, top_number=10, title=''):\n",
    "    zipo = zip(indexes, data)\n",
    "    sorted_by_second = sorted(zipo, key=lambda tup: tup[1])\n",
    "    words = [word for word,_ in sorted_by_second]\n",
    "    values = [value for _,value in sorted_by_second]\n",
    "    chart = sns.barplot(x=words[-top_number:], y=values[-top_number:])\n",
    "    if title != '':\n",
    "        chart.set_title(title)\n",
    "    chart.set_xticklabels(chart.get_xticklabels(), rotation=90)"
   ]
  },
  {
   "cell_type": "code",
   "execution_count": 14,
   "metadata": {},
   "outputs": [],
   "source": [
    "def get_top_tags():\n",
    "    popular = t_data.Tag.value_counts()\n",
    "    return list(zip(popular.index, popular))"
   ]
  },
  {
   "cell_type": "code",
   "execution_count": 15,
   "metadata": {},
   "outputs": [
    {
     "data": {
      "text/plain": [
       "[('javascript', 12265),\n",
       " ('java', 11539),\n",
       " ('c#', 10022),\n",
       " ('php', 9824),\n",
       " ('android', 9205),\n",
       " ('jquery', 7848),\n",
       " ('python', 6477),\n",
       " ('html', 5987),\n",
       " ('ios', 4701),\n",
       " ('c++', 4678),\n",
       " ('mysql', 4357),\n",
       " ('css', 4308),\n",
       " ('sql', 3719),\n",
       " ('asp.net', 2929),\n",
       " ('objective-c', 2636),\n",
       " ('ruby-on-rails', 2580),\n",
       " ('.net', 2437),\n",
       " ('c', 2268),\n",
       " ('iphone', 2109),\n",
       " ('angularjs', 1994),\n",
       " ('arrays', 1967),\n",
       " ('sql-server', 1818),\n",
       " ('json', 1707),\n",
       " ('ruby', 1664),\n",
       " ('r', 1566)]"
      ]
     },
     "metadata": {},
     "output_type": "display_data"
    },
    {
     "data": {
      "image/png": "[encoded data removed]",
      "text/plain": [
       "<Figure size 432x288 with 1 Axes>"
      ]
     },
     "metadata": {
      "needs_background": "light"
     },
     "output_type": "display_data"
    }
   ],
   "source": [
    "top_tags_count = get_top_tags()\n",
    "display(top_tags_count[:25])\n",
    "top_tags = [i for i,j in top_tags_count][:25]\n",
    "top_tags_values = [j for _,j in top_tags_count][:25]\n",
    "plot_top_words(top_tags, top_tags_values,25,'Top tags')\n"
   ]
  },
  {
   "cell_type": "markdown",
   "metadata": {},
   "source": [
    "## Definición de word stemmer"
   ]
  },
  {
   "cell_type": "code",
   "execution_count": 16,
   "metadata": {},
   "outputs": [],
   "source": [
    "from nltk.corpus import stopwords\n",
    "from nltk.stem.snowball import SnowballStemmer\n",
    "from sklearn.feature_extraction.text import CountVectorizer\n",
    "\n",
    "stemmer = SnowballStemmer(language = 'english')\n",
    "analyzer = CountVectorizer().build_analyzer()\n",
    "\n",
    "stop_words = stopwords.words('english')\n",
    "\n",
    "def stemmed_words(doc):\n",
    "    return (stemmer.stem(w.lower()) for w in analyzer(doc) if w not in stop_words)"
   ]
  },
  {
   "cell_type": "markdown",
   "metadata": {},
   "source": [
    "# Más Exploración"
   ]
  },
  {
   "cell_type": "markdown",
   "metadata": {},
   "source": [
    "Se debe realizar la siguiente exploración sobre las preguntas:\n",
    "- Histograma del largo de las preguntas\n",
    "- Histograma de las frecuencias de palabras de las preguntas (limitando el número de palabras)\n",
    "- Histograma de frecuencias de los tags"
   ]
  },
  {
   "cell_type": "code",
   "execution_count": 17,
   "metadata": {},
   "outputs": [],
   "source": [
    "import matplotlib.pyplot as plt\n",
    " \n",
    "def plot_hist(data, num_bins  = 50):\n",
    "    max_length = data.max\n",
    "    hist, bins = np.histogram(data, bins=num_bins)\n",
    "    width = 0.7 * (bins[1] - bins[0])\n",
    "    center = (bins[:-1] + bins[1:]) / 2\n",
    "    plt.bar(center, hist, align='center', width=width)\n",
    "    plt.show()\n",
    "    plt"
   ]
  },
  {
   "cell_type": "markdown",
   "metadata": {},
   "source": [
    "### Largo de las preguntas"
   ]
  },
  {
   "cell_type": "code",
   "execution_count": 18,
   "metadata": {},
   "outputs": [
    {
     "data": {
      "image/png": "[encoded data removed]",
      "text/plain": [
       "<Figure size 432x288 with 1 Axes>"
      ]
     },
     "metadata": {
      "needs_background": "light"
     },
     "output_type": "display_data"
    }
   ],
   "source": [
    "lengths = q_data[c_question].apply(lambda x : len(x))\n",
    "plot_hist(lengths)"
   ]
  },
  {
   "cell_type": "markdown",
   "metadata": {},
   "source": [
    "### Frecuencia de palabras en body"
   ]
  },
  {
   "cell_type": "code",
   "execution_count": 19,
   "metadata": {},
   "outputs": [],
   "source": [
    "flatten = lambda l: [item for sublist in l for item in sublist]\n",
    "\n",
    "def all_words_frequency(corpus):\n",
    "    text_lists = map(lambda x : x.split(\" \"), corpus) \n",
    "    words = flatten(text_lists)\n",
    "    words = filter(lambda x: x != \"\", words)\n",
    "    return FreqDist(words)"
   ]
  },
  {
   "cell_type": "code",
   "execution_count": 20,
   "metadata": {},
   "outputs": [
    {
     "name": "stderr",
     "output_type": "stream",
     "text": [
      "/home/marcel/anaconda3/lib/python3.7/site-packages/matplotlib/backends/backend_agg.py:211: RuntimeWarning: Glyph 13 missing from current font.\n",
      "  font.set_text(s, 0.0, flags=flags)\n",
      "/home/marcel/anaconda3/lib/python3.7/site-packages/matplotlib/backends/backend_agg.py:180: RuntimeWarning: Glyph 13 missing from current font.\n",
      "  font.set_text(s, 0, flags=flags)\n"
     ]
    },
    {
     "data": {
      "image/png": "[encoded data removed]",
      "text/plain": [
       "<Figure size 432x288 with 1 Axes>"
      ]
     },
     "metadata": {
      "needs_background": "light"
     },
     "output_type": "display_data"
    },
    {
     "data": {
      "text/plain": [
       "<matplotlib.axes._subplots.AxesSubplot at 0x7fc3f383e9e8>"
      ]
     },
     "execution_count": 20,
     "metadata": {},
     "output_type": "execute_result"
    }
   ],
   "source": [
    "freq_all_words_body = all_words_frequency(q_data.Body)\n",
    "freq_all_words_body.plot(20)"
   ]
  },
  {
   "cell_type": "markdown",
   "metadata": {},
   "source": [
    "### Frecuencia de tags literales en body"
   ]
  },
  {
   "cell_type": "code",
   "execution_count": 21,
   "metadata": {},
   "outputs": [
    {
     "data": {
      "image/png": "[encoded data removed]",
      "text/plain": [
       "<Figure size 432x288 with 1 Axes>"
      ]
     },
     "metadata": {
      "needs_background": "light"
     },
     "output_type": "display_data"
    }
   ],
   "source": [
    "frequency_tags_all_body = [freq_all_words_body[tag] for tag in top_tags]\n",
    "plot_top_words(top_tags, frequency_tags_all_body, 25,\"Cantidad de tags literales en el body\")"
   ]
  },
  {
   "cell_type": "markdown",
   "metadata": {},
   "source": [
    "### Frecuencia de palabras en title"
   ]
  },
  {
   "cell_type": "code",
   "execution_count": 22,
   "metadata": {
    "scrolled": true
   },
   "outputs": [
    {
     "data": {
      "image/png": "[encoded data removed]",
      "text/plain": [
       "<Figure size 432x288 with 1 Axes>"
      ]
     },
     "metadata": {
      "needs_background": "light"
     },
     "output_type": "display_data"
    },
    {
     "data": {
      "text/plain": [
       "<matplotlib.axes._subplots.AxesSubplot at 0x7fc3f37a99b0>"
      ]
     },
     "execution_count": 22,
     "metadata": {},
     "output_type": "execute_result"
    }
   ],
   "source": [
    "freq_all_words_title = all_words_frequency(q_data.Title)\n",
    "freq_all_words_title.plot(20)"
   ]
  },
  {
   "cell_type": "markdown",
   "metadata": {},
   "source": [
    "### Frecuencia de tags literales en title"
   ]
  },
  {
   "cell_type": "code",
   "execution_count": 23,
   "metadata": {},
   "outputs": [
    {
     "data": {
      "image/png": "[encoded data removed]",
      "text/plain": [
       "<Figure size 432x288 with 1 Axes>"
      ]
     },
     "metadata": {
      "needs_background": "light"
     },
     "output_type": "display_data"
    }
   ],
   "source": [
    "frequency_tags_all_title = [freq_all_words_title[tag] for tag in top_tags]\n",
    "plot_top_words(top_tags, frequency_tags_all_title, 25,\"Cantidad de tags literales en el title\")"
   ]
  },
  {
   "cell_type": "markdown",
   "metadata": {},
   "source": [
    "# Preoprocesamiento target value"
   ]
  },
  {
   "cell_type": "markdown",
   "metadata": {},
   "source": [
    "Los tags y las questions son dataframes distintos. Es necesario hacer un join y combinarlas."
   ]
  },
  {
   "cell_type": "code",
   "execution_count": 24,
   "metadata": {},
   "outputs": [],
   "source": [
    "#Genera todos los pares posibles existentes entre las preguntas y los tags\n",
    "def generate_question_tag_pairs(top_tags):\n",
    "    top_tags_set = set()\n",
    "    for _, row in t_data[t_data.Tag.isin(top_tags)].iterrows():\n",
    "        top_tags_set.add(str(row[\"Id\"]) + \"-\" + row[\"Tag\"])\n",
    "    return top_tags_set"
   ]
  },
  {
   "cell_type": "code",
   "execution_count": 25,
   "metadata": {},
   "outputs": [],
   "source": [
    "top_tags_set = generate_question_tag_pairs(top_tags)"
   ]
  },
  {
   "cell_type": "code",
   "execution_count": 26,
   "metadata": {},
   "outputs": [],
   "source": [
    "#Agrega las tags al df de las questions\n",
    "def add_tags_to_questions(questions_df, tags, top_tags_set):\n",
    "    def contains_tag(tag):\n",
    "        def _contains(ID):\n",
    "            return (str(ID) + \"-\" + tag) in top_tags_set\n",
    "        return _contains\n",
    "    \n",
    "    q_tags_columns = []\n",
    "    for tag in list(tags):\n",
    "        columnName = \"t_\" + tag\n",
    "        questions_df[columnName] = questions_df[\"Id\"].map(contains_tag(tag))\n",
    "\n",
    "        q_tags_columns.append(columnName)\n",
    "    return q_tags_columns"
   ]
  },
  {
   "cell_type": "code",
   "execution_count": 27,
   "metadata": {},
   "outputs": [],
   "source": [
    "import seaborn as sns\n",
    "def explore_tags(df):\n",
    "    df = df.copy()\n",
    "    q_tags_columns = add_tags_to_questions(df, top_tags, top_tags_set)\n",
    "    true_tag_count = []\n",
    "    false_tag_count = []\n",
    "    for tag in q_tags_columns:\n",
    "        tag_count = df[tag].value_counts()\n",
    "        false_tag_count.append(tag_count[0])\n",
    "        true_tag_count.append(tag_count[1])\n",
    "        sns.barplot(x=['False', 'True'], y=tag_count).set_title(tag[2:])\n",
    "        plt.figure()\n",
    "    q_tags_names = map(lambda tag: tag[2:], q_tags_columns)\n",
    "    true_chart = sns.barplot(x=q_tags_names, y=true_tag_count)\n",
    "    true_chart.set_title(\"True tags\")\n",
    "    true_chart.set_xticklabels(true_chart.get_xticklabels(), rotation=90)\n",
    "    plt.figure()\n",
    "    false_chart = sns.barplot(x=q_tags_names, y=false_tag_count)\n",
    "    false_chart.set_title(\"False tags\")\n",
    "    false_chart.set_xticklabels(false_chart.get_xticklabels(), rotation=90)\n",
    "    plt.figure()"
   ]
  },
  {
   "cell_type": "code",
   "execution_count": 28,
   "metadata": {},
   "outputs": [
    {
     "data": {
      "text/html": [
       "<div>\n",
       "<style scoped>\n",
       "    .dataframe tbody tr th:only-of-type {\n",
       "        vertical-align: middle;\n",
       "    }\n",
       "\n",
       "    .dataframe tbody tr th {\n",
       "        vertical-align: top;\n",
       "    }\n",
       "\n",
       "    .dataframe thead th {\n",
       "        text-align: right;\n",
       "    }\n",
       "</style>\n",
       "<table border=\"1\" class=\"dataframe\">\n",
       "  <thead>\n",
       "    <tr style=\"text-align: right;\">\n",
       "      <th></th>\n",
       "      <th>Unnamed: 0</th>\n",
       "      <th>Id</th>\n",
       "      <th>OwnerUserId</th>\n",
       "      <th>CreationDate</th>\n",
       "      <th>ClosedDate</th>\n",
       "      <th>Score</th>\n",
       "      <th>Title</th>\n",
       "      <th>Body</th>\n",
       "      <th>t_javascript</th>\n",
       "      <th>t_java</th>\n",
       "      <th>...</th>\n",
       "      <th>t_ruby-on-rails</th>\n",
       "      <th>t_.net</th>\n",
       "      <th>t_c</th>\n",
       "      <th>t_iphone</th>\n",
       "      <th>t_angularjs</th>\n",
       "      <th>t_arrays</th>\n",
       "      <th>t_sql-server</th>\n",
       "      <th>t_json</th>\n",
       "      <th>t_ruby</th>\n",
       "      <th>t_r</th>\n",
       "    </tr>\n",
       "  </thead>\n",
       "  <tbody>\n",
       "    <tr>\n",
       "      <td>0</td>\n",
       "      <td>345874</td>\n",
       "      <td>12395950</td>\n",
       "      <td>795000.0</td>\n",
       "      <td>2012-09-12T20:45:35Z</td>\n",
       "      <td>2016-10-05T20:53:44Z</td>\n",
       "      <td>2</td>\n",
       "      <td>Calling Twain driver from 64 bit application</td>\n",
       "      <td>&lt;p&gt;I need to call TWAIN API from .NET (C#) app...</td>\n",
       "      <td>False</td>\n",
       "      <td>False</td>\n",
       "      <td>...</td>\n",
       "      <td>False</td>\n",
       "      <td>True</td>\n",
       "      <td>False</td>\n",
       "      <td>False</td>\n",
       "      <td>False</td>\n",
       "      <td>False</td>\n",
       "      <td>False</td>\n",
       "      <td>False</td>\n",
       "      <td>False</td>\n",
       "      <td>False</td>\n",
       "    </tr>\n",
       "    <tr>\n",
       "      <td>1</td>\n",
       "      <td>654403</td>\n",
       "      <td>22426350</td>\n",
       "      <td>1378959.0</td>\n",
       "      <td>2014-03-15T16:17:17Z</td>\n",
       "      <td>NaN</td>\n",
       "      <td>0</td>\n",
       "      <td>Why does variable in struct instance change af...</td>\n",
       "      <td>&lt;p&gt;This is really weird.&lt;/p&gt;\\r\\n\\r\\n&lt;p&gt;I have ...</td>\n",
       "      <td>False</td>\n",
       "      <td>False</td>\n",
       "      <td>...</td>\n",
       "      <td>False</td>\n",
       "      <td>False</td>\n",
       "      <td>True</td>\n",
       "      <td>False</td>\n",
       "      <td>False</td>\n",
       "      <td>False</td>\n",
       "      <td>False</td>\n",
       "      <td>False</td>\n",
       "      <td>False</td>\n",
       "      <td>False</td>\n",
       "    </tr>\n",
       "    <tr>\n",
       "      <td>2</td>\n",
       "      <td>574386</td>\n",
       "      <td>19842160</td>\n",
       "      <td>2429569.0</td>\n",
       "      <td>2013-11-07T17:07:34Z</td>\n",
       "      <td>NaN</td>\n",
       "      <td>0</td>\n",
       "      <td>dynamically creating text fields lands up in d...</td>\n",
       "      <td>&lt;p&gt;I'm having issues with the below code,\\r\\nw...</td>\n",
       "      <td>True</td>\n",
       "      <td>False</td>\n",
       "      <td>...</td>\n",
       "      <td>False</td>\n",
       "      <td>False</td>\n",
       "      <td>False</td>\n",
       "      <td>False</td>\n",
       "      <td>False</td>\n",
       "      <td>False</td>\n",
       "      <td>False</td>\n",
       "      <td>False</td>\n",
       "      <td>False</td>\n",
       "      <td>False</td>\n",
       "    </tr>\n",
       "    <tr>\n",
       "      <td>3</td>\n",
       "      <td>671187</td>\n",
       "      <td>22953000</td>\n",
       "      <td>3513576.0</td>\n",
       "      <td>2014-04-09T04:48:04Z</td>\n",
       "      <td>NaN</td>\n",
       "      <td>0</td>\n",
       "      <td>Javascript in PHP/HTML hiding Div not working</td>\n",
       "      <td>&lt;p&gt;I am new to coding so be gentle.  I am buil...</td>\n",
       "      <td>True</td>\n",
       "      <td>False</td>\n",
       "      <td>...</td>\n",
       "      <td>False</td>\n",
       "      <td>False</td>\n",
       "      <td>False</td>\n",
       "      <td>False</td>\n",
       "      <td>False</td>\n",
       "      <td>False</td>\n",
       "      <td>False</td>\n",
       "      <td>False</td>\n",
       "      <td>False</td>\n",
       "      <td>False</td>\n",
       "    </tr>\n",
       "    <tr>\n",
       "      <td>4</td>\n",
       "      <td>1088725</td>\n",
       "      <td>35528560</td>\n",
       "      <td>1712334.0</td>\n",
       "      <td>2016-02-20T20:24:29Z</td>\n",
       "      <td>NaN</td>\n",
       "      <td>0</td>\n",
       "      <td>Design a compareTo that can sort in ascending ...</td>\n",
       "      <td>&lt;p&gt;I have a class States that is an object tha...</td>\n",
       "      <td>False</td>\n",
       "      <td>True</td>\n",
       "      <td>...</td>\n",
       "      <td>False</td>\n",
       "      <td>False</td>\n",
       "      <td>False</td>\n",
       "      <td>False</td>\n",
       "      <td>False</td>\n",
       "      <td>False</td>\n",
       "      <td>False</td>\n",
       "      <td>False</td>\n",
       "      <td>False</td>\n",
       "      <td>False</td>\n",
       "    </tr>\n",
       "    <tr>\n",
       "      <td>...</td>\n",
       "      <td>...</td>\n",
       "      <td>...</td>\n",
       "      <td>...</td>\n",
       "      <td>...</td>\n",
       "      <td>...</td>\n",
       "      <td>...</td>\n",
       "      <td>...</td>\n",
       "      <td>...</td>\n",
       "      <td>...</td>\n",
       "      <td>...</td>\n",
       "      <td>...</td>\n",
       "      <td>...</td>\n",
       "      <td>...</td>\n",
       "      <td>...</td>\n",
       "      <td>...</td>\n",
       "      <td>...</td>\n",
       "      <td>...</td>\n",
       "      <td>...</td>\n",
       "      <td>...</td>\n",
       "      <td>...</td>\n",
       "      <td>...</td>\n",
       "    </tr>\n",
       "    <tr>\n",
       "      <td>126417</td>\n",
       "      <td>774493</td>\n",
       "      <td>26196410</td>\n",
       "      <td>3948823.0</td>\n",
       "      <td>2014-10-04T19:34:01Z</td>\n",
       "      <td>NaN</td>\n",
       "      <td>1</td>\n",
       "      <td>Trying to download a file using FileUtils</td>\n",
       "      <td>&lt;p&gt;I'm using this atm:&lt;/p&gt;\\r\\n\\r\\n&lt;pre&gt;&lt;code&gt;p...</td>\n",
       "      <td>False</td>\n",
       "      <td>True</td>\n",
       "      <td>...</td>\n",
       "      <td>False</td>\n",
       "      <td>False</td>\n",
       "      <td>False</td>\n",
       "      <td>False</td>\n",
       "      <td>False</td>\n",
       "      <td>False</td>\n",
       "      <td>False</td>\n",
       "      <td>False</td>\n",
       "      <td>False</td>\n",
       "      <td>False</td>\n",
       "    </tr>\n",
       "    <tr>\n",
       "      <td>126418</td>\n",
       "      <td>516752</td>\n",
       "      <td>17962250</td>\n",
       "      <td>2618142.0</td>\n",
       "      <td>2013-07-31T05:25:50Z</td>\n",
       "      <td>NaN</td>\n",
       "      <td>0</td>\n",
       "      <td>ffdec_h264 (video decoder) GstElement not foun...</td>\n",
       "      <td>&lt;p&gt;Some of the lines from a &lt;em&gt;MyApp.c&lt;/em&gt; f...</td>\n",
       "      <td>False</td>\n",
       "      <td>False</td>\n",
       "      <td>...</td>\n",
       "      <td>False</td>\n",
       "      <td>False</td>\n",
       "      <td>False</td>\n",
       "      <td>False</td>\n",
       "      <td>False</td>\n",
       "      <td>False</td>\n",
       "      <td>False</td>\n",
       "      <td>False</td>\n",
       "      <td>False</td>\n",
       "      <td>False</td>\n",
       "    </tr>\n",
       "    <tr>\n",
       "      <td>126419</td>\n",
       "      <td>35874</td>\n",
       "      <td>1795880</td>\n",
       "      <td>171406.0</td>\n",
       "      <td>2009-11-25T10:03:26Z</td>\n",
       "      <td>NaN</td>\n",
       "      <td>0</td>\n",
       "      <td>significance of 'z'?</td>\n",
       "      <td>&lt;p&gt;i started out learning cocos2d and came acr...</td>\n",
       "      <td>False</td>\n",
       "      <td>False</td>\n",
       "      <td>...</td>\n",
       "      <td>False</td>\n",
       "      <td>False</td>\n",
       "      <td>False</td>\n",
       "      <td>True</td>\n",
       "      <td>False</td>\n",
       "      <td>False</td>\n",
       "      <td>False</td>\n",
       "      <td>False</td>\n",
       "      <td>False</td>\n",
       "      <td>False</td>\n",
       "    </tr>\n",
       "    <tr>\n",
       "      <td>126420</td>\n",
       "      <td>341956</td>\n",
       "      <td>12265770</td>\n",
       "      <td>1607247.0</td>\n",
       "      <td>2012-09-04T14:34:57Z</td>\n",
       "      <td>NaN</td>\n",
       "      <td>1</td>\n",
       "      <td>How to use key word from a current line of tex...</td>\n",
       "      <td>&lt;p&gt;I am starting out in Perl and am parsing so...</td>\n",
       "      <td>False</td>\n",
       "      <td>False</td>\n",
       "      <td>...</td>\n",
       "      <td>False</td>\n",
       "      <td>False</td>\n",
       "      <td>False</td>\n",
       "      <td>False</td>\n",
       "      <td>False</td>\n",
       "      <td>False</td>\n",
       "      <td>False</td>\n",
       "      <td>False</td>\n",
       "      <td>False</td>\n",
       "      <td>False</td>\n",
       "    </tr>\n",
       "    <tr>\n",
       "      <td>126421</td>\n",
       "      <td>224896</td>\n",
       "      <td>8448690</td>\n",
       "      <td>583464.0</td>\n",
       "      <td>2011-12-09T16:37:37Z</td>\n",
       "      <td>NaN</td>\n",
       "      <td>2</td>\n",
       "      <td>python - tkinter -- Having trouble with resizi...</td>\n",
       "      <td>&lt;p&gt;i have the following code and i can't manag...</td>\n",
       "      <td>False</td>\n",
       "      <td>False</td>\n",
       "      <td>...</td>\n",
       "      <td>False</td>\n",
       "      <td>False</td>\n",
       "      <td>False</td>\n",
       "      <td>False</td>\n",
       "      <td>False</td>\n",
       "      <td>False</td>\n",
       "      <td>False</td>\n",
       "      <td>False</td>\n",
       "      <td>False</td>\n",
       "      <td>False</td>\n",
       "    </tr>\n",
       "  </tbody>\n",
       "</table>\n",
       "<p>126422 rows × 33 columns</p>\n",
       "</div>"
      ],
      "text/plain": [
       "        Unnamed: 0        Id  OwnerUserId          CreationDate  \\\n",
       "0           345874  12395950     795000.0  2012-09-12T20:45:35Z   \n",
       "1           654403  22426350    1378959.0  2014-03-15T16:17:17Z   \n",
       "2           574386  19842160    2429569.0  2013-11-07T17:07:34Z   \n",
       "3           671187  22953000    3513576.0  2014-04-09T04:48:04Z   \n",
       "4          1088725  35528560    1712334.0  2016-02-20T20:24:29Z   \n",
       "...            ...       ...          ...                   ...   \n",
       "126417      774493  26196410    3948823.0  2014-10-04T19:34:01Z   \n",
       "126418      516752  17962250    2618142.0  2013-07-31T05:25:50Z   \n",
       "126419       35874   1795880     171406.0  2009-11-25T10:03:26Z   \n",
       "126420      341956  12265770    1607247.0  2012-09-04T14:34:57Z   \n",
       "126421      224896   8448690     583464.0  2011-12-09T16:37:37Z   \n",
       "\n",
       "                  ClosedDate  Score  \\\n",
       "0       2016-10-05T20:53:44Z      2   \n",
       "1                        NaN      0   \n",
       "2                        NaN      0   \n",
       "3                        NaN      0   \n",
       "4                        NaN      0   \n",
       "...                      ...    ...   \n",
       "126417                   NaN      1   \n",
       "126418                   NaN      0   \n",
       "126419                   NaN      0   \n",
       "126420                   NaN      1   \n",
       "126421                   NaN      2   \n",
       "\n",
       "                                                    Title  \\\n",
       "0            Calling Twain driver from 64 bit application   \n",
       "1       Why does variable in struct instance change af...   \n",
       "2       dynamically creating text fields lands up in d...   \n",
       "3           Javascript in PHP/HTML hiding Div not working   \n",
       "4       Design a compareTo that can sort in ascending ...   \n",
       "...                                                   ...   \n",
       "126417          Trying to download a file using FileUtils   \n",
       "126418  ffdec_h264 (video decoder) GstElement not foun...   \n",
       "126419                               significance of 'z'?   \n",
       "126420  How to use key word from a current line of tex...   \n",
       "126421  python - tkinter -- Having trouble with resizi...   \n",
       "\n",
       "                                                     Body  t_javascript  \\\n",
       "0       <p>I need to call TWAIN API from .NET (C#) app...         False   \n",
       "1       <p>This is really weird.</p>\\r\\n\\r\\n<p>I have ...         False   \n",
       "2       <p>I'm having issues with the below code,\\r\\nw...          True   \n",
       "3       <p>I am new to coding so be gentle.  I am buil...          True   \n",
       "4       <p>I have a class States that is an object tha...         False   \n",
       "...                                                   ...           ...   \n",
       "126417  <p>I'm using this atm:</p>\\r\\n\\r\\n<pre><code>p...         False   \n",
       "126418  <p>Some of the lines from a <em>MyApp.c</em> f...         False   \n",
       "126419  <p>i started out learning cocos2d and came acr...         False   \n",
       "126420  <p>I am starting out in Perl and am parsing so...         False   \n",
       "126421  <p>i have the following code and i can't manag...         False   \n",
       "\n",
       "        t_java  ...  t_ruby-on-rails  t_.net    t_c  t_iphone  t_angularjs  \\\n",
       "0        False  ...            False    True  False     False        False   \n",
       "1        False  ...            False   False   True     False        False   \n",
       "2        False  ...            False   False  False     False        False   \n",
       "3        False  ...            False   False  False     False        False   \n",
       "4         True  ...            False   False  False     False        False   \n",
       "...        ...  ...              ...     ...    ...       ...          ...   \n",
       "126417    True  ...            False   False  False     False        False   \n",
       "126418   False  ...            False   False  False     False        False   \n",
       "126419   False  ...            False   False  False      True        False   \n",
       "126420   False  ...            False   False  False     False        False   \n",
       "126421   False  ...            False   False  False     False        False   \n",
       "\n",
       "        t_arrays  t_sql-server  t_json  t_ruby    t_r  \n",
       "0          False         False   False   False  False  \n",
       "1          False         False   False   False  False  \n",
       "2          False         False   False   False  False  \n",
       "3          False         False   False   False  False  \n",
       "4          False         False   False   False  False  \n",
       "...          ...           ...     ...     ...    ...  \n",
       "126417     False         False   False   False  False  \n",
       "126418     False         False   False   False  False  \n",
       "126419     False         False   False   False  False  \n",
       "126420     False         False   False   False  False  \n",
       "126421     False         False   False   False  False  \n",
       "\n",
       "[126422 rows x 33 columns]"
      ]
     },
     "execution_count": 28,
     "metadata": {},
     "output_type": "execute_result"
    }
   ],
   "source": [
    "add_tags_to_questions(q_data, top_tags, top_tags_set)\n",
    "q_data"
   ]
  },
  {
   "cell_type": "code",
   "execution_count": 29,
   "metadata": {
    "scrolled": false
   },
   "outputs": [
    {
     "name": "stderr",
     "output_type": "stream",
     "text": [
      "/home/marcel/anaconda3/lib/python3.7/site-packages/ipykernel_launcher.py:12: RuntimeWarning: More than 20 figures have been opened. Figures created through the pyplot interface (`matplotlib.pyplot.figure`) are retained until explicitly closed and may consume too much memory. (To control this warning, see the rcParam `figure.max_open_warning`).\n",
      "  if sys.path[0] == '':\n"
     ]
    },
    {
     "ename": "TypeError",
     "evalue": "object of type 'map' has no len()",
     "output_type": "error",
     "traceback": [
      "\u001b[0;31m---------------------------------------------------------------------------\u001b[0m",
      "\u001b[0;31mAttributeError\u001b[0m                            Traceback (most recent call last)",
      "\u001b[0;32m~/anaconda3/lib/python3.7/site-packages/seaborn/utils.py\u001b[0m in \u001b[0;36mcategorical_order\u001b[0;34m(values, order)\u001b[0m\n\u001b[1;32m    525\u001b[0m             \u001b[0;32mtry\u001b[0m\u001b[0;34m:\u001b[0m\u001b[0;34m\u001b[0m\u001b[0;34m\u001b[0m\u001b[0m\n\u001b[0;32m--> 526\u001b[0;31m                 \u001b[0morder\u001b[0m \u001b[0;34m=\u001b[0m \u001b[0mvalues\u001b[0m\u001b[0;34m.\u001b[0m\u001b[0mcat\u001b[0m\u001b[0;34m.\u001b[0m\u001b[0mcategories\u001b[0m\u001b[0;34m\u001b[0m\u001b[0;34m\u001b[0m\u001b[0m\n\u001b[0m\u001b[1;32m    527\u001b[0m             \u001b[0;32mexcept\u001b[0m \u001b[0;34m(\u001b[0m\u001b[0mTypeError\u001b[0m\u001b[0;34m,\u001b[0m \u001b[0mAttributeError\u001b[0m\u001b[0;34m)\u001b[0m\u001b[0;34m:\u001b[0m\u001b[0;34m\u001b[0m\u001b[0;34m\u001b[0m\u001b[0m\n",
      "\u001b[0;31mAttributeError\u001b[0m: 'map' object has no attribute 'cat'",
      "\nDuring handling of the above exception, another exception occurred:\n",
      "\u001b[0;31mAttributeError\u001b[0m                            Traceback (most recent call last)",
      "\u001b[0;32m~/anaconda3/lib/python3.7/site-packages/seaborn/utils.py\u001b[0m in \u001b[0;36mcategorical_order\u001b[0;34m(values, order)\u001b[0m\n\u001b[1;32m    528\u001b[0m                 \u001b[0;32mtry\u001b[0m\u001b[0;34m:\u001b[0m\u001b[0;34m\u001b[0m\u001b[0;34m\u001b[0m\u001b[0m\n\u001b[0;32m--> 529\u001b[0;31m                     \u001b[0morder\u001b[0m \u001b[0;34m=\u001b[0m \u001b[0mvalues\u001b[0m\u001b[0;34m.\u001b[0m\u001b[0munique\u001b[0m\u001b[0;34m(\u001b[0m\u001b[0;34m)\u001b[0m\u001b[0;34m\u001b[0m\u001b[0;34m\u001b[0m\u001b[0m\n\u001b[0m\u001b[1;32m    530\u001b[0m                 \u001b[0;32mexcept\u001b[0m \u001b[0mAttributeError\u001b[0m\u001b[0;34m:\u001b[0m\u001b[0;34m\u001b[0m\u001b[0;34m\u001b[0m\u001b[0m\n",
      "\u001b[0;31mAttributeError\u001b[0m: 'map' object has no attribute 'unique'",
      "\nDuring handling of the above exception, another exception occurred:\n",
      "\u001b[0;31mTypeError\u001b[0m                                 Traceback (most recent call last)",
      "\u001b[0;32m<ipython-input-29-d0aeecf26517>\u001b[0m in \u001b[0;36m<module>\u001b[0;34m\u001b[0m\n\u001b[0;32m----> 1\u001b[0;31m \u001b[0mexplore_tags\u001b[0m\u001b[0;34m(\u001b[0m\u001b[0mq_data\u001b[0m\u001b[0;34m)\u001b[0m\u001b[0;34m\u001b[0m\u001b[0;34m\u001b[0m\u001b[0m\n\u001b[0m",
      "\u001b[0;32m<ipython-input-27-e03ab4b77fca>\u001b[0m in \u001b[0;36mexplore_tags\u001b[0;34m(df)\u001b[0m\n\u001b[1;32m     12\u001b[0m         \u001b[0mplt\u001b[0m\u001b[0;34m.\u001b[0m\u001b[0mfigure\u001b[0m\u001b[0;34m(\u001b[0m\u001b[0;34m)\u001b[0m\u001b[0;34m\u001b[0m\u001b[0;34m\u001b[0m\u001b[0m\n\u001b[1;32m     13\u001b[0m     \u001b[0mq_tags_names\u001b[0m \u001b[0;34m=\u001b[0m \u001b[0mmap\u001b[0m\u001b[0;34m(\u001b[0m\u001b[0;32mlambda\u001b[0m \u001b[0mtag\u001b[0m\u001b[0;34m:\u001b[0m \u001b[0mtag\u001b[0m\u001b[0;34m[\u001b[0m\u001b[0;36m2\u001b[0m\u001b[0;34m:\u001b[0m\u001b[0;34m]\u001b[0m\u001b[0;34m,\u001b[0m \u001b[0mq_tags_columns\u001b[0m\u001b[0;34m)\u001b[0m\u001b[0;34m\u001b[0m\u001b[0;34m\u001b[0m\u001b[0m\n\u001b[0;32m---> 14\u001b[0;31m     \u001b[0mtrue_chart\u001b[0m \u001b[0;34m=\u001b[0m \u001b[0msns\u001b[0m\u001b[0;34m.\u001b[0m\u001b[0mbarplot\u001b[0m\u001b[0;34m(\u001b[0m\u001b[0mx\u001b[0m\u001b[0;34m=\u001b[0m\u001b[0mq_tags_names\u001b[0m\u001b[0;34m,\u001b[0m \u001b[0my\u001b[0m\u001b[0;34m=\u001b[0m\u001b[0mtrue_tag_count\u001b[0m\u001b[0;34m)\u001b[0m\u001b[0;34m\u001b[0m\u001b[0;34m\u001b[0m\u001b[0m\n\u001b[0m\u001b[1;32m     15\u001b[0m     \u001b[0mtrue_chart\u001b[0m\u001b[0;34m.\u001b[0m\u001b[0mset_title\u001b[0m\u001b[0;34m(\u001b[0m\u001b[0;34m\"True tags\"\u001b[0m\u001b[0;34m)\u001b[0m\u001b[0;34m\u001b[0m\u001b[0;34m\u001b[0m\u001b[0m\n\u001b[1;32m     16\u001b[0m     \u001b[0mtrue_chart\u001b[0m\u001b[0;34m.\u001b[0m\u001b[0mset_xticklabels\u001b[0m\u001b[0;34m(\u001b[0m\u001b[0mtrue_chart\u001b[0m\u001b[0;34m.\u001b[0m\u001b[0mget_xticklabels\u001b[0m\u001b[0;34m(\u001b[0m\u001b[0;34m)\u001b[0m\u001b[0;34m,\u001b[0m \u001b[0mrotation\u001b[0m\u001b[0;34m=\u001b[0m\u001b[0;36m90\u001b[0m\u001b[0;34m)\u001b[0m\u001b[0;34m\u001b[0m\u001b[0;34m\u001b[0m\u001b[0m\n",
      "\u001b[0;32m~/anaconda3/lib/python3.7/site-packages/seaborn/categorical.py\u001b[0m in \u001b[0;36mbarplot\u001b[0;34m(x, y, hue, data, order, hue_order, estimator, ci, n_boot, units, orient, color, palette, saturation, errcolor, errwidth, capsize, dodge, ax, **kwargs)\u001b[0m\n\u001b[1;32m   3147\u001b[0m                           \u001b[0mestimator\u001b[0m\u001b[0;34m,\u001b[0m \u001b[0mci\u001b[0m\u001b[0;34m,\u001b[0m \u001b[0mn_boot\u001b[0m\u001b[0;34m,\u001b[0m \u001b[0munits\u001b[0m\u001b[0;34m,\u001b[0m\u001b[0;34m\u001b[0m\u001b[0;34m\u001b[0m\u001b[0m\n\u001b[1;32m   3148\u001b[0m                           \u001b[0morient\u001b[0m\u001b[0;34m,\u001b[0m \u001b[0mcolor\u001b[0m\u001b[0;34m,\u001b[0m \u001b[0mpalette\u001b[0m\u001b[0;34m,\u001b[0m \u001b[0msaturation\u001b[0m\u001b[0;34m,\u001b[0m\u001b[0;34m\u001b[0m\u001b[0;34m\u001b[0m\u001b[0m\n\u001b[0;32m-> 3149\u001b[0;31m                           errcolor, errwidth, capsize, dodge)\n\u001b[0m\u001b[1;32m   3150\u001b[0m \u001b[0;34m\u001b[0m\u001b[0m\n\u001b[1;32m   3151\u001b[0m     \u001b[0;32mif\u001b[0m \u001b[0max\u001b[0m \u001b[0;32mis\u001b[0m \u001b[0;32mNone\u001b[0m\u001b[0;34m:\u001b[0m\u001b[0;34m\u001b[0m\u001b[0;34m\u001b[0m\u001b[0m\n",
      "\u001b[0;32m~/anaconda3/lib/python3.7/site-packages/seaborn/categorical.py\u001b[0m in \u001b[0;36m__init__\u001b[0;34m(self, x, y, hue, data, order, hue_order, estimator, ci, n_boot, units, orient, color, palette, saturation, errcolor, errwidth, capsize, dodge)\u001b[0m\n\u001b[1;32m   1605\u001b[0m         \u001b[0;34m\"\"\"Initialize the plotter.\"\"\"\u001b[0m\u001b[0;34m\u001b[0m\u001b[0;34m\u001b[0m\u001b[0m\n\u001b[1;32m   1606\u001b[0m         self.establish_variables(x, y, hue, data, orient,\n\u001b[0;32m-> 1607\u001b[0;31m                                  order, hue_order, units)\n\u001b[0m\u001b[1;32m   1608\u001b[0m         \u001b[0mself\u001b[0m\u001b[0;34m.\u001b[0m\u001b[0mestablish_colors\u001b[0m\u001b[0;34m(\u001b[0m\u001b[0mcolor\u001b[0m\u001b[0;34m,\u001b[0m \u001b[0mpalette\u001b[0m\u001b[0;34m,\u001b[0m \u001b[0msaturation\u001b[0m\u001b[0;34m)\u001b[0m\u001b[0;34m\u001b[0m\u001b[0;34m\u001b[0m\u001b[0m\n\u001b[1;32m   1609\u001b[0m         \u001b[0mself\u001b[0m\u001b[0;34m.\u001b[0m\u001b[0mestimate_statistic\u001b[0m\u001b[0;34m(\u001b[0m\u001b[0mestimator\u001b[0m\u001b[0;34m,\u001b[0m \u001b[0mci\u001b[0m\u001b[0;34m,\u001b[0m \u001b[0mn_boot\u001b[0m\u001b[0;34m)\u001b[0m\u001b[0;34m\u001b[0m\u001b[0;34m\u001b[0m\u001b[0m\n",
      "\u001b[0;32m~/anaconda3/lib/python3.7/site-packages/seaborn/categorical.py\u001b[0m in \u001b[0;36mestablish_variables\u001b[0;34m(self, x, y, hue, data, orient, order, hue_order, units)\u001b[0m\n\u001b[1;32m    201\u001b[0m \u001b[0;34m\u001b[0m\u001b[0m\n\u001b[1;32m    202\u001b[0m                 \u001b[0;31m# Get the order on the categorical axis\u001b[0m\u001b[0;34m\u001b[0m\u001b[0;34m\u001b[0m\u001b[0;34m\u001b[0m\u001b[0m\n\u001b[0;32m--> 203\u001b[0;31m                 \u001b[0mgroup_names\u001b[0m \u001b[0;34m=\u001b[0m \u001b[0mcategorical_order\u001b[0m\u001b[0;34m(\u001b[0m\u001b[0mgroups\u001b[0m\u001b[0;34m,\u001b[0m \u001b[0morder\u001b[0m\u001b[0;34m)\u001b[0m\u001b[0;34m\u001b[0m\u001b[0;34m\u001b[0m\u001b[0m\n\u001b[0m\u001b[1;32m    204\u001b[0m \u001b[0;34m\u001b[0m\u001b[0m\n\u001b[1;32m    205\u001b[0m                 \u001b[0;31m# Group the numeric data\u001b[0m\u001b[0;34m\u001b[0m\u001b[0;34m\u001b[0m\u001b[0;34m\u001b[0m\u001b[0m\n",
      "\u001b[0;32m~/anaconda3/lib/python3.7/site-packages/seaborn/utils.py\u001b[0m in \u001b[0;36mcategorical_order\u001b[0;34m(values, order)\u001b[0m\n\u001b[1;32m    529\u001b[0m                     \u001b[0morder\u001b[0m \u001b[0;34m=\u001b[0m \u001b[0mvalues\u001b[0m\u001b[0;34m.\u001b[0m\u001b[0munique\u001b[0m\u001b[0;34m(\u001b[0m\u001b[0;34m)\u001b[0m\u001b[0;34m\u001b[0m\u001b[0;34m\u001b[0m\u001b[0m\n\u001b[1;32m    530\u001b[0m                 \u001b[0;32mexcept\u001b[0m \u001b[0mAttributeError\u001b[0m\u001b[0;34m:\u001b[0m\u001b[0;34m\u001b[0m\u001b[0;34m\u001b[0m\u001b[0m\n\u001b[0;32m--> 531\u001b[0;31m                     \u001b[0morder\u001b[0m \u001b[0;34m=\u001b[0m \u001b[0mpd\u001b[0m\u001b[0;34m.\u001b[0m\u001b[0munique\u001b[0m\u001b[0;34m(\u001b[0m\u001b[0mvalues\u001b[0m\u001b[0;34m)\u001b[0m\u001b[0;34m\u001b[0m\u001b[0;34m\u001b[0m\u001b[0m\n\u001b[0m\u001b[1;32m    532\u001b[0m                 \u001b[0;32mtry\u001b[0m\u001b[0;34m:\u001b[0m\u001b[0;34m\u001b[0m\u001b[0;34m\u001b[0m\u001b[0m\n\u001b[1;32m    533\u001b[0m                     \u001b[0mnp\u001b[0m\u001b[0;34m.\u001b[0m\u001b[0masarray\u001b[0m\u001b[0;34m(\u001b[0m\u001b[0mvalues\u001b[0m\u001b[0;34m)\u001b[0m\u001b[0;34m.\u001b[0m\u001b[0mastype\u001b[0m\u001b[0;34m(\u001b[0m\u001b[0mnp\u001b[0m\u001b[0;34m.\u001b[0m\u001b[0mfloat\u001b[0m\u001b[0;34m)\u001b[0m\u001b[0;34m\u001b[0m\u001b[0;34m\u001b[0m\u001b[0m\n",
      "\u001b[0;32m~/anaconda3/lib/python3.7/site-packages/pandas/core/algorithms.py\u001b[0m in \u001b[0;36munique\u001b[0;34m(values)\u001b[0m\n\u001b[1;32m    393\u001b[0m     \"\"\"\n\u001b[1;32m    394\u001b[0m \u001b[0;34m\u001b[0m\u001b[0m\n\u001b[0;32m--> 395\u001b[0;31m     \u001b[0mvalues\u001b[0m \u001b[0;34m=\u001b[0m \u001b[0m_ensure_arraylike\u001b[0m\u001b[0;34m(\u001b[0m\u001b[0mvalues\u001b[0m\u001b[0;34m)\u001b[0m\u001b[0;34m\u001b[0m\u001b[0;34m\u001b[0m\u001b[0m\n\u001b[0m\u001b[1;32m    396\u001b[0m \u001b[0;34m\u001b[0m\u001b[0m\n\u001b[1;32m    397\u001b[0m     \u001b[0;32mif\u001b[0m \u001b[0mis_extension_array_dtype\u001b[0m\u001b[0;34m(\u001b[0m\u001b[0mvalues\u001b[0m\u001b[0;34m)\u001b[0m\u001b[0;34m:\u001b[0m\u001b[0;34m\u001b[0m\u001b[0;34m\u001b[0m\u001b[0m\n",
      "\u001b[0;32m~/anaconda3/lib/python3.7/site-packages/pandas/core/algorithms.py\u001b[0m in \u001b[0;36m_ensure_arraylike\u001b[0;34m(values)\u001b[0m\n\u001b[1;32m    206\u001b[0m             \u001b[0;32mif\u001b[0m \u001b[0misinstance\u001b[0m\u001b[0;34m(\u001b[0m\u001b[0mvalues\u001b[0m\u001b[0;34m,\u001b[0m \u001b[0mtuple\u001b[0m\u001b[0;34m)\u001b[0m\u001b[0;34m:\u001b[0m\u001b[0;34m\u001b[0m\u001b[0;34m\u001b[0m\u001b[0m\n\u001b[1;32m    207\u001b[0m                 \u001b[0mvalues\u001b[0m \u001b[0;34m=\u001b[0m \u001b[0mlist\u001b[0m\u001b[0;34m(\u001b[0m\u001b[0mvalues\u001b[0m\u001b[0;34m)\u001b[0m\u001b[0;34m\u001b[0m\u001b[0;34m\u001b[0m\u001b[0m\n\u001b[0;32m--> 208\u001b[0;31m             \u001b[0mvalues\u001b[0m \u001b[0;34m=\u001b[0m \u001b[0mconstruct_1d_object_array_from_listlike\u001b[0m\u001b[0;34m(\u001b[0m\u001b[0mvalues\u001b[0m\u001b[0;34m)\u001b[0m\u001b[0;34m\u001b[0m\u001b[0;34m\u001b[0m\u001b[0m\n\u001b[0m\u001b[1;32m    209\u001b[0m         \u001b[0;32melse\u001b[0m\u001b[0;34m:\u001b[0m\u001b[0;34m\u001b[0m\u001b[0;34m\u001b[0m\u001b[0m\n\u001b[1;32m    210\u001b[0m             \u001b[0mvalues\u001b[0m \u001b[0;34m=\u001b[0m \u001b[0mnp\u001b[0m\u001b[0;34m.\u001b[0m\u001b[0masarray\u001b[0m\u001b[0;34m(\u001b[0m\u001b[0mvalues\u001b[0m\u001b[0;34m)\u001b[0m\u001b[0;34m\u001b[0m\u001b[0;34m\u001b[0m\u001b[0m\n",
      "\u001b[0;32m~/anaconda3/lib/python3.7/site-packages/pandas/core/dtypes/cast.py\u001b[0m in \u001b[0;36mconstruct_1d_object_array_from_listlike\u001b[0;34m(values)\u001b[0m\n\u001b[1;32m   1257\u001b[0m     \u001b[0;31m# numpy will try to interpret nested lists as further dimensions, hence\u001b[0m\u001b[0;34m\u001b[0m\u001b[0;34m\u001b[0m\u001b[0;34m\u001b[0m\u001b[0m\n\u001b[1;32m   1258\u001b[0m     \u001b[0;31m# making a 1D array that contains list-likes is a bit tricky:\u001b[0m\u001b[0;34m\u001b[0m\u001b[0;34m\u001b[0m\u001b[0;34m\u001b[0m\u001b[0m\n\u001b[0;32m-> 1259\u001b[0;31m     \u001b[0mresult\u001b[0m \u001b[0;34m=\u001b[0m \u001b[0mnp\u001b[0m\u001b[0;34m.\u001b[0m\u001b[0mempty\u001b[0m\u001b[0;34m(\u001b[0m\u001b[0mlen\u001b[0m\u001b[0;34m(\u001b[0m\u001b[0mvalues\u001b[0m\u001b[0;34m)\u001b[0m\u001b[0;34m,\u001b[0m \u001b[0mdtype\u001b[0m\u001b[0;34m=\u001b[0m\u001b[0;34m\"object\"\u001b[0m\u001b[0;34m)\u001b[0m\u001b[0;34m\u001b[0m\u001b[0;34m\u001b[0m\u001b[0m\n\u001b[0m\u001b[1;32m   1260\u001b[0m     \u001b[0mresult\u001b[0m\u001b[0;34m[\u001b[0m\u001b[0;34m:\u001b[0m\u001b[0;34m]\u001b[0m \u001b[0;34m=\u001b[0m \u001b[0mvalues\u001b[0m\u001b[0;34m\u001b[0m\u001b[0;34m\u001b[0m\u001b[0m\n\u001b[1;32m   1261\u001b[0m     \u001b[0;32mreturn\u001b[0m \u001b[0mresult\u001b[0m\u001b[0;34m\u001b[0m\u001b[0;34m\u001b[0m\u001b[0m\n",
      "\u001b[0;31mTypeError\u001b[0m: object of type 'map' has no len()"
     ]
    },
    {
     "data": {
      "image/png": "[encoded data removed]",
      "text/plain": [
       "<Figure size 432x288 with 1 Axes>"
      ]
     },
     "metadata": {
      "needs_background": "light"
     },
     "output_type": "display_data"
    },
    {
     "data": {
      "image/png": "[encoded data removed]",
      "text/plain": [
       "<Figure size 432x288 with 1 Axes>"
      ]
     },
     "metadata": {
      "needs_background": "light"
     },
     "output_type": "display_data"
    },
    {
     "data": {
      "image/png": "[encoded data removed]",
      "text/plain": [
       "<Figure size 432x288 with 1 Axes>"
      ]
     },
     "metadata": {
      "needs_background": "light"
     },
     "output_type": "display_data"
    },
    {
     "data": {
      "image/png": "[encoded data removed]",
      "text/plain": [
       "<Figure size 432x288 with 1 Axes>"
      ]
     },
     "metadata": {
      "needs_background": "light"
     },
     "output_type": "display_data"
    },
    {
     "data": {
      "image/png": "[encoded data removed]",
      "text/plain": [
       "<Figure size 432x288 with 1 Axes>"
      ]
     },
     "metadata": {
      "needs_background": "light"
     },
     "output_type": "display_data"
    },
    {
     "data": {
      "image/png": "[encoded data removed]",
      "text/plain": [
       "<Figure size 432x288 with 1 Axes>"
      ]
     },
     "metadata": {
      "needs_background": "light"
     },
     "output_type": "display_data"
    },
    {
     "data": {
      "image/png": "[encoded data removed]",
      "text/plain": [
       "<Figure size 432x288 with 1 Axes>"
      ]
     },
     "metadata": {
      "needs_background": "light"
     },
     "output_type": "display_data"
    },
    {
     "data": {
      "image/png": "[encoded data removed]",
      "text/plain": [
       "<Figure size 432x288 with 1 Axes>"
      ]
     },
     "metadata": {
      "needs_background": "light"
     },
     "output_type": "display_data"
    },
    {
     "data": {
      "image/png": "[encoded data removed]",
      "text/plain": [
       "<Figure size 432x288 with 1 Axes>"
      ]
     },
     "metadata": {
      "needs_background": "light"
     },
     "output_type": "display_data"
    },
    {
     "data": {
      "image/png": "[encoded data removed]",
      "text/plain": [
       "<Figure size 432x288 with 1 Axes>"
      ]
     },
     "metadata": {
      "needs_background": "light"
     },
     "output_type": "display_data"
    },
    {
     "data": {
      "image/png": "[encoded data removed]",
      "text/plain": [
       "<Figure size 432x288 with 1 Axes>"
      ]
     },
     "metadata": {
      "needs_background": "light"
     },
     "output_type": "display_data"
    },
    {
     "data": {
      "image/png": "[encoded data removed]",
      "text/plain": [
       "<Figure size 432x288 with 1 Axes>"
      ]
     },
     "metadata": {
      "needs_background": "light"
     },
     "output_type": "display_data"
    },
    {
     "data": {
      "image/png": "[encoded data removed]",
      "text/plain": [
       "<Figure size 432x288 with 1 Axes>"
      ]
     },
     "metadata": {
      "needs_background": "light"
     },
     "output_type": "display_data"
    },
    {
     "data": {
      "image/png": "[encoded data removed]",
      "text/plain": [
       "<Figure size 432x288 with 1 Axes>"
      ]
     },
     "metadata": {
      "needs_background": "light"
     },
     "output_type": "display_data"
    },
    {
     "data": {
      "image/png": "[encoded data removed]",
      "text/plain": [
       "<Figure size 432x288 with 1 Axes>"
      ]
     },
     "metadata": {
      "needs_background": "light"
     },
     "output_type": "display_data"
    },
    {
     "data": {
      "image/png": "[encoded data removed]",
      "text/plain": [
       "<Figure size 432x288 with 1 Axes>"
      ]
     },
     "metadata": {
      "needs_background": "light"
     },
     "output_type": "display_data"
    },
    {
     "data": {
      "image/png": "[encoded data removed]",
      "text/plain": [
       "<Figure size 432x288 with 1 Axes>"
      ]
     },
     "metadata": {
      "needs_background": "light"
     },
     "output_type": "display_data"
    },
    {
     "data": {
      "image/png": "[encoded data removed]",
      "text/plain": [
       "<Figure size 432x288 with 1 Axes>"
      ]
     },
     "metadata": {
      "needs_background": "light"
     },
     "output_type": "display_data"
    },
    {
     "data": {
      "image/png": "[encoded data removed]",
      "text/plain": [
       "<Figure size 432x288 with 1 Axes>"
      ]
     },
     "metadata": {
      "needs_background": "light"
     },
     "output_type": "display_data"
    },
    {
     "data": {
      "image/png": "[encoded data removed]",
      "text/plain": [
       "<Figure size 432x288 with 1 Axes>"
      ]
     },
     "metadata": {
      "needs_background": "light"
     },
     "output_type": "display_data"
    },
    {
     "data": {
      "image/png": "[encoded data removed]",
      "text/plain": [
       "<Figure size 432x288 with 1 Axes>"
      ]
     },
     "metadata": {
      "needs_background": "light"
     },
     "output_type": "display_data"
    },
    {
     "data": {
      "image/png": "[encoded data removed]",
      "text/plain": [
       "<Figure size 432x288 with 1 Axes>"
      ]
     },
     "metadata": {
      "needs_background": "light"
     },
     "output_type": "display_data"
    },
    {
     "data": {
      "image/png": "[encoded data removed]",
      "text/plain": [
       "<Figure size 432x288 with 1 Axes>"
      ]
     },
     "metadata": {
      "needs_background": "light"
     },
     "output_type": "display_data"
    },
    {
     "data": {
      "image/png": "[encoded data removed]",
      "text/plain": [
       "<Figure size 432x288 with 1 Axes>"
      ]
     },
     "metadata": {
      "needs_background": "light"
     },
     "output_type": "display_data"
    },
    {
     "data": {
      "image/png": "[encoded data removed]",
      "text/plain": [
       "<Figure size 432x288 with 1 Axes>"
      ]
     },
     "metadata": {
      "needs_background": "light"
     },
     "output_type": "display_data"
    },
    {
     "data": {
      "text/plain": [
       "<Figure size 432x288 with 0 Axes>"
      ]
     },
     "metadata": {},
     "output_type": "display_data"
    }
   ],
   "source": [
    "explore_tags(q_data)"
   ]
  },
  {
   "cell_type": "code",
   "execution_count": 30,
   "metadata": {},
   "outputs": [],
   "source": [
    "#Vectorizers para análisis de datos\n",
    "vectorizer_cv_body_analysis = CountVectorizer(stop_words = \"english\", max_features = 100, analyzer=stemmed_words)\n",
    "vectorizer_cv_title_analysis = CountVectorizer(stop_words = \"english\", max_features = 100, analyzer=stemmed_words)"
   ]
  },
  {
   "cell_type": "code",
   "execution_count": 31,
   "metadata": {},
   "outputs": [],
   "source": [
    "cv_fit_body = vectorizer_cv_body_analysis.fit_transform(q_data.Body)\n",
    "data_body = cv_fit_body.toarray().sum(axis=0)\n",
    "indexes_body = vectorizer_cv_body_analysis.get_feature_names()"
   ]
  },
  {
   "cell_type": "code",
   "execution_count": 32,
   "metadata": {},
   "outputs": [],
   "source": [
    "cv_fit_title = vectorizer_cv_title_analysis.fit_transform(q_data.Title)\n",
    "data_title = cv_fit_title.toarray().sum(axis=0)\n",
    "indexes_title = vectorizer_cv_title_analysis.get_feature_names()"
   ]
  },
  {
   "cell_type": "code",
   "execution_count": 33,
   "metadata": {},
   "outputs": [
    {
     "data": {
      "image/png": "[encoded data removed]",
      "text/plain": [
       "<Figure size 432x288 with 1 Axes>"
      ]
     },
     "metadata": {
      "needs_background": "light"
     },
     "output_type": "display_data"
    }
   ],
   "source": [
    "plot_top_words(indexes_body, data_body, 25, \"Palabras mas utilizadas en el body\")"
   ]
  },
  {
   "cell_type": "code",
   "execution_count": 34,
   "metadata": {},
   "outputs": [
    {
     "data": {
      "image/png": "[encoded data removed]",
      "text/plain": [
       "<Figure size 432x288 with 1 Axes>"
      ]
     },
     "metadata": {
      "needs_background": "light"
     },
     "output_type": "display_data"
    }
   ],
   "source": [
    "plot_top_words(indexes_title, data_title, 25, \"Palabras mas utilizadas en el title\")"
   ]
  },
  {
   "cell_type": "markdown",
   "metadata": {},
   "source": [
    "# Data split y batching"
   ]
  },
  {
   "cell_type": "code",
   "execution_count": 35,
   "metadata": {},
   "outputs": [],
   "source": [
    "def split_train_test_validation(df):\n",
    "    df_train, df_test = train_test_split(df, test_size = 0.33,random_state=1)\n",
    "    df_aux = df_train.copy()\n",
    "    df_train, df_validation = train_test_split(df_aux, test_size = 0.33,random_state=1)\n",
    "    return df_train, df_test.copy(), df_validation"
   ]
  },
  {
   "cell_type": "markdown",
   "metadata": {},
   "source": [
    "### Data Sequence"
   ]
  },
  {
   "cell_type": "code",
   "execution_count": 36,
   "metadata": {},
   "outputs": [],
   "source": [
    "# Esta clase se encarga de generar un batch \n",
    "# Le aplica a el batch solamente las transformaciones deseadas (fun_transform_) tanto a las features 'x'  como a 'y' \n",
    "class DataSequence(Sequence):\n",
    "    def __init__(self, x_set, y_set, batch_size, fun_transform_x, fun_transform_y):\n",
    "        self.x, self.y = x_set, y_set\n",
    "        self.batch_size = batch_size\n",
    "        self.transform_x = fun_transform_x\n",
    "        self.transform_y = fun_transform_y\n",
    "\n",
    "    def __len__(self):\n",
    "        return int(np.ceil(len(self.x) / float(self.batch_size)))\n",
    "\n",
    "    def __getitem__(self, idx):\n",
    "        batch_x = self.x[idx * self.batch_size:(idx + 1) * self.batch_size].reset_index(drop=True)\n",
    "        batch_y = self.y[idx * self.batch_size:(idx + 1) * self.batch_size].reset_index(drop=True)\n",
    "        #UPDATE 28/11\n",
    "        return (self.transform_x(batch_x), (self.transform_y(batch_y)))"
   ]
  },
  {
   "cell_type": "markdown",
   "metadata": {},
   "source": [
    "### Vectorizadores para Body y Title"
   ]
  },
  {
   "cell_type": "code",
   "execution_count": 37,
   "metadata": {},
   "outputs": [],
   "source": [
    "from sklearn.feature_extraction.text import TfidfVectorizer\n",
    "\n",
    "vectorizer_cv_body = TfidfVectorizer(stop_words = \"english\", max_features = 200, analyzer=stemmed_words)\n",
    "\n",
    "vectorizer_cv_title = TfidfVectorizer(stop_words = \"english\", max_features = 200, analyzer=stemmed_words)"
   ]
  },
  {
   "cell_type": "markdown",
   "metadata": {},
   "source": [
    "### Funciones de transformacion de X e y"
   ]
  },
  {
   "cell_type": "code",
   "execution_count": 38,
   "metadata": {},
   "outputs": [],
   "source": [
    "from scipy.sparse import hstack\n",
    "from scipy.sparse import csc_matrix\n",
    "\n",
    "\n",
    "def transform_x(batch_x):\n",
    "    body_vectors = generate_vectors(batch_x[c_question],vectorizer_cv_body)\n",
    "    title_vectors = generate_vectors(batch_x[c_title],vectorizer_cv_title)\n",
    "    batch_x = hstack((body_vectors, title_vectors))\n",
    "    return batch_x.todense()\n",
    "    #Transformaciones aplicadas a las features predictoras antes de ser pasadas a la red\n",
    "    pass\n",
    "\n",
    "def transform_y(batch_y):\n",
    "    add_tags_to_questions(batch_y, top_tags, top_tags_set)\n",
    "    batch_y = batch_y.filter(regex=(\"t_.*\"))\n",
    "    return batch_y\n",
    "    #Transformaciones aplicadas a las target labels antes de ser comparadas\n",
    "    pass"
   ]
  },
  {
   "cell_type": "code",
   "execution_count": 39,
   "metadata": {},
   "outputs": [],
   "source": [
    "def generate_vectors(column, vectorizer):\n",
    "    X = vectorizer.transform(column)\n",
    "    return X"
   ]
  },
  {
   "cell_type": "markdown",
   "metadata": {},
   "source": [
    "### Particion de los datos en Train, Test y Validation"
   ]
  },
  {
   "cell_type": "code",
   "execution_count": 40,
   "metadata": {},
   "outputs": [],
   "source": [
    "#UPDATE 28/11\n",
    "q_train, q_test, q_validation = split_train_test_validation(q_data)"
   ]
  },
  {
   "cell_type": "markdown",
   "metadata": {},
   "source": [
    "### Fit del lenguaje de Body y Title en sus vectorizers"
   ]
  },
  {
   "cell_type": "code",
   "execution_count": 41,
   "metadata": {},
   "outputs": [
    {
     "data": {
      "text/plain": [
       "TfidfVectorizer(analyzer=<function stemmed_words at 0x7fc3fa0ac1e0>,\n",
       "                binary=False, decode_error='strict',\n",
       "                dtype=<class 'numpy.float64'>, encoding='utf-8',\n",
       "                input='content', lowercase=True, max_df=1.0, max_features=200,\n",
       "                min_df=1, ngram_range=(1, 1), norm='l2', preprocessor=None,\n",
       "                smooth_idf=True, stop_words='english', strip_accents=None,\n",
       "                sublinear_tf=False, token_pattern='(?u)\\\\b\\\\w\\\\w+\\\\b',\n",
       "                tokenizer=None, use_idf=True, vocabulary=None)"
      ]
     },
     "execution_count": 41,
     "metadata": {},
     "output_type": "execute_result"
    }
   ],
   "source": [
    "vectorizer_cv_body.fit(q_train[c_question])\n",
    "vectorizer_cv_title.fit(q_train[c_title])"
   ]
  },
  {
   "cell_type": "markdown",
   "metadata": {},
   "source": [
    "## Definicion de Loss y para modelos de  prediccion de tags (parte 1)"
   ]
  },
  {
   "cell_type": "code",
   "execution_count": 42,
   "metadata": {},
   "outputs": [],
   "source": [
    "def get_weighted_loss(weights):\n",
    "    def weighted_loss(y_true, y_pred):\n",
    "        return K.mean((weights[:,0]**(1-y_true))*(weights[:,1]**(y_true))*K.binary_crossentropy(y_true, y_pred), axis=-1)\n",
    "    return weighted_loss"
   ]
  },
  {
   "cell_type": "code",
   "execution_count": 43,
   "metadata": {},
   "outputs": [],
   "source": [
    "#UPDATE 28/11\n",
    "def calculating_class_weights(y_true):\n",
    "    number_dim = np.shape(y_true)[1]\n",
    "    weights = np.empty([number_dim, 2])\n",
    "    for i in range(number_dim):\n",
    "        weights[i] = compute_class_weight('balanced', [0.,1.], y_true[:, i])\n",
    "    return weights"
   ]
  },
  {
   "cell_type": "code",
   "execution_count": 44,
   "metadata": {},
   "outputs": [],
   "source": [
    "#UPDATE 28/11\n",
    "y_real = transform_y(q_train)\n",
    "class_weights = calculating_class_weights(np.array(y_real))"
   ]
  },
  {
   "cell_type": "markdown",
   "metadata": {},
   "source": [
    "## Métricas de modelos de prediccion de tags (parte 1)"
   ]
  },
  {
   "cell_type": "code",
   "execution_count": 88,
   "metadata": {},
   "outputs": [],
   "source": [
    "from sklearn.metrics import accuracy_score\n",
    "from sklearn.metrics import precision_score\n",
    "from sklearn.metrics import recall_score\n",
    "\n",
    "def get_max_presicion_thresholds(y_true, y_pred):\n",
    "    tags_count = y_pred.shape[1]\n",
    "    max_thresholds = np.empty(tags_count)\n",
    "    for i in range(tags_count):\n",
    "        tag_pred = y_pred[:, i]\n",
    "        tag_true = y_true[:, i]\n",
    "        precisions, recalls, thresholds = precision_recall_curve(tag_true, tag_pred)\n",
    "        j = precisions[:-1].argmax()\n",
    "        max_thresholds[i] = thresholds[j]\n",
    "    return max_thresholds\n",
    "\n",
    "def macro_average_precision(ths, test, preds):\n",
    "    precision_sum = 0\n",
    "    for i in range(len(ths)):\n",
    "        threshold = ths[i]\n",
    "        tag_pred = preds[:,i]\n",
    "        tag_pred = [1 if p >= threshold else 0 for p in tag_pred]\n",
    "        tag_true = test[:,i]\n",
    "        precision_sum =precision_sum + precision_score(tag_true, tag_pred)\n",
    "    return precision_sum / len(ths)\n",
    "        "
   ]
  },
  {
   "cell_type": "markdown",
   "metadata": {},
   "source": [
    "# Model \n",
    "\n",
    "Definición del modelo baseline"
   ]
  },
  {
   "cell_type": "code",
   "execution_count": 46,
   "metadata": {},
   "outputs": [],
   "source": [
    "batch_size_baseline = 500\n",
    "generator = DataSequence(q_train, q_train, batch_size_baseline, transform_x, transform_y)\n",
    "generator_validation = DataSequence(q_validation, q_validation, batch_size_baseline, transform_x, transform_y)"
   ]
  },
  {
   "cell_type": "code",
   "execution_count": 47,
   "metadata": {},
   "outputs": [],
   "source": [
    "def get_baseline_model(input_size, output_size):\n",
    "    model = Sequential()\n",
    "    model.add(Dense(2, activation='relu', input_shape=(input_size,)))\n",
    "    #....\n",
    "    model.add(Dense(output_size, activation='sigmoid'))\n",
    "    \n",
    "    #Update 28/11\n",
    "    model.compile(loss=get_weighted_loss(class_weights), optimizer=SGD(), metrics=['accuracy'])\n",
    "    return model"
   ]
  },
  {
   "cell_type": "code",
   "execution_count": 48,
   "metadata": {},
   "outputs": [],
   "source": [
    "input_size_base_line = 400\n",
    "output_size_base_line = 25\n",
    "model = get_baseline_model(input_size_base_line, output_size_base_line)"
   ]
  },
  {
   "cell_type": "markdown",
   "metadata": {},
   "source": [
    "# Train Baseline"
   ]
  },
  {
   "cell_type": "code",
   "execution_count": 49,
   "metadata": {},
   "outputs": [
    {
     "name": "stdout",
     "output_type": "stream",
     "text": [
      "Epoch 1/1\n",
      "114/114 [==============================] - 105s 917ms/step - loss: 0.6935 - accuracy: 0.0339 - val_loss: 0.7023 - val_accuracy: 0.0325\n"
     ]
    },
    {
     "data": {
      "text/plain": [
       "<keras.callbacks.callbacks.History at 0x7fc3eb605d30>"
      ]
     },
     "execution_count": 49,
     "metadata": {},
     "output_type": "execute_result"
    }
   ],
   "source": [
    "#UPDATE 28/11\n",
    "model.fit_generator(\n",
    "    generator,\n",
    "    workers = 10,\n",
    "    use_multiprocessing = True,\n",
    "    epochs=1,\n",
    "    validation_data=generator_validation,\n",
    "    validation_steps=len(generator_validation)\n",
    ")"
   ]
  },
  {
   "cell_type": "markdown",
   "metadata": {},
   "source": [
    "# Test Baseline "
   ]
  },
  {
   "cell_type": "code",
   "execution_count": 51,
   "metadata": {},
   "outputs": [
    {
     "name": "stdout",
     "output_type": "stream",
     "text": [
      "Validation: 0.10132690420453423\n",
      "Test: 0.02926243847658572\n"
     ]
    }
   ],
   "source": [
    "generator_validation = DataSequence(q_validation, q_validation, batch_size_baseline, transform_x, transform_y)\n",
    "\n",
    "preds_validation = model.predict_generator(generator_validation)\n",
    "\n",
    "\n",
    "y_true_validation = transform_y(q_validation).to_numpy().astype(int)\n",
    "\n",
    "\n",
    "ths = get_max_presicion_thresholds(y_true_validation, preds_validation)\n",
    "\n",
    "\n",
    "generator_test = DataSequence(q_test, q_test, batch_size_baseline, transform_x, transform_y)\n",
    "\n",
    "preds_test = model.predict_generator(generator_test)\n",
    "\n",
    "\n",
    "y_true_test = transform_y(q_test).to_numpy().astype(int)\n",
    "\n",
    "\n",
    "\n",
    "avg_validation = macro_average_precision(ths, y_true_validation, preds_validation)\n",
    "avg_test = macro_average_precision(ths, y_true_test, preds_test)\n",
    "\n",
    "print(\"Validation: \"+ str(avg_validation))\n",
    "print(\"Test: \"+ str(avg_test))"
   ]
  },
  {
   "cell_type": "code",
   "execution_count": null,
   "metadata": {},
   "outputs": [],
   "source": [
    "y_test = transform_y(q_test)\n",
    "y_test = y_test.to_numpy().astype(int)\n",
    "len(y_test)"
   ]
  },
  {
   "cell_type": "markdown",
   "metadata": {},
   "source": [
    "# Otros modelos\n",
    "Entrenar y evaluar nuevos nuevos modelos buscando mejorar el baseline"
   ]
  },
  {
   "cell_type": "code",
   "execution_count": 52,
   "metadata": {},
   "outputs": [],
   "source": [
    "def get_custom_model(input_size, output_size):\n",
    "    model = Sequential()\n",
    "    model.add(Dense(input_size, activation='relu', input_shape=(input_size,)))\n",
    "    model.add(Dense(int(input_size*0.75), activation='relu'))\n",
    "    model.add(Dense(int(input_size*0.50), activation='relu'))\n",
    "    #....\n",
    "    model.add(Dense(output_size, activation='sigmoid'))\n",
    "    \n",
    "    #Update 28/11\n",
    "    model.compile(loss=get_weighted_loss(class_weights), optimizer='adam')\n",
    "    return model"
   ]
  },
  {
   "cell_type": "code",
   "execution_count": 53,
   "metadata": {},
   "outputs": [
    {
     "name": "stdout",
     "output_type": "stream",
     "text": [
      "Model: \"sequential_2\"\n",
      "_________________________________________________________________\n",
      "Layer (type)                 Output Shape              Param #   \n",
      "=================================================================\n",
      "dense_3 (Dense)              (None, 400)               160400    \n",
      "_________________________________________________________________\n",
      "dense_4 (Dense)              (None, 300)               120300    \n",
      "_________________________________________________________________\n",
      "dense_5 (Dense)              (None, 200)               60200     \n",
      "_________________________________________________________________\n",
      "dense_6 (Dense)              (None, 25)                5025      \n",
      "=================================================================\n",
      "Total params: 345,925\n",
      "Trainable params: 345,925\n",
      "Non-trainable params: 0\n",
      "_________________________________________________________________\n"
     ]
    }
   ],
   "source": [
    "input_size = 400\n",
    "output_size = 25\n",
    "custom_model_batch_size = 150\n",
    "\n",
    "generator = DataSequence(q_train, q_train, custom_model_batch_size, transform_x, transform_y)\n",
    "generator_validation = DataSequence(q_validation, q_validation, custom_model_batch_size, transform_x, transform_y)\n",
    "\n",
    "model = get_custom_model(input_size, output_size)\n",
    "\n",
    "model.summary()"
   ]
  },
  {
   "cell_type": "code",
   "execution_count": 54,
   "metadata": {},
   "outputs": [
    {
     "name": "stdout",
     "output_type": "stream",
     "text": [
      "Epoch 1/5\n",
      "379/379 [==============================] - 104s 275ms/step - loss: 0.3994 - val_loss: 0.2963\n",
      "Epoch 2/5\n",
      "379/379 [==============================] - 103s 271ms/step - loss: 0.3066 - val_loss: 0.2797\n",
      "Epoch 3/5\n",
      "379/379 [==============================] - 103s 273ms/step - loss: 0.2779 - val_loss: 0.2913\n",
      "Epoch 4/5\n",
      "379/379 [==============================] - 103s 271ms/step - loss: 0.2533 - val_loss: 0.2960\n",
      "Epoch 5/5\n",
      "379/379 [==============================] - 104s 274ms/step - loss: 0.2293 - val_loss: 0.3243\n"
     ]
    },
    {
     "data": {
      "text/plain": [
       "<keras.callbacks.callbacks.History at 0x7fc3eb606e48>"
      ]
     },
     "execution_count": 54,
     "metadata": {},
     "output_type": "execute_result"
    }
   ],
   "source": [
    "model.fit_generator(\n",
    "    generator,\n",
    "    workers = 10,\n",
    "    use_multiprocessing = True,\n",
    "    epochs=5,\n",
    "    validation_data=generator_validation,\n",
    "    validation_steps=len(generator_validation)\n",
    ")"
   ]
  },
  {
   "cell_type": "code",
   "execution_count": 55,
   "metadata": {},
   "outputs": [
    {
     "name": "stdout",
     "output_type": "stream",
     "text": [
      "Validation: 0.9532320846662081\n",
      "Test: 0.8388256794708842\n"
     ]
    }
   ],
   "source": [
    "generator_validation = DataSequence(q_validation, q_validation, custom_model_batch_size, transform_x, transform_y)\n",
    "\n",
    "preds_validation = model.predict_generator(generator_validation)\n",
    "\n",
    "\n",
    "y_true_validation = transform_y(q_validation).to_numpy().astype(int)\n",
    "\n",
    "\n",
    "ths = get_max_presicion_thresholds(y_true_validation, preds_validation)\n",
    "\n",
    "\n",
    "generator_test = DataSequence(q_test, q_test, custom_model_batch_size, transform_x, transform_y)\n",
    "\n",
    "preds_test = model.predict_generator(generator_test)\n",
    "\n",
    "\n",
    "y_true_test = transform_y(q_test).to_numpy().astype(int)\n",
    "\n",
    "\n",
    "\n",
    "avg_validation = macro_average_precision(ths, y_true_validation, preds_validation)\n",
    "avg_test = macro_average_precision(ths, y_true_test, preds_test)\n",
    "\n",
    "print(\"Validation: \"+ str(avg_validation))\n",
    "print(\"Test: \"+ str(avg_test))"
   ]
  },
  {
   "cell_type": "markdown",
   "metadata": {},
   "source": [
    "# Parte 2\n",
    "\n",
    "Pregunta seleccionada:\n",
    "A partir de una pregunta y sus tags: ¿la pregunta va a ser cerrada?"
   ]
  },
  {
   "cell_type": "code",
   "execution_count": 56,
   "metadata": {},
   "outputs": [],
   "source": [
    "c_closed = 'ClosedDate'\n",
    "c_is_closed = 'Closed'"
   ]
  },
  {
   "cell_type": "markdown",
   "metadata": {},
   "source": [
    "### Funciones de transformacion de X e y"
   ]
  },
  {
   "cell_type": "code",
   "execution_count": 58,
   "metadata": {},
   "outputs": [],
   "source": [
    "def transform_x_2(batch_x):\n",
    "    add_tags_to_questions(batch_x, top_tags, top_tags_set)\n",
    "    tags = batch_x.filter(regex=(\"t_.*\"))\n",
    "    body_vectors = generate_vectors(batch_x[c_question],vectorizer_cv_body)\n",
    "    title_vectors = generate_vectors(batch_x[c_title],vectorizer_cv_title)\n",
    "    batch_x = hstack((body_vectors, title_vectors, tags))\n",
    "    return batch_x.todense()\n",
    "    #Transformaciones aplicadas a las features predictoras antes de ser pasadas a la red\n",
    "    pass\n",
    "\n",
    "def transform_y_2(batch_y):\n",
    "    batch_y = np.where(batch_y[c_closed].isnull(), 0, 1)\n",
    "    return batch_y\n",
    "    #Transformaciones aplicadas a las target labels antes de ser comparadas\n",
    "    pass"
   ]
  },
  {
   "cell_type": "markdown",
   "metadata": {},
   "source": [
    "## Exploracion de datos"
   ]
  },
  {
   "cell_type": "code",
   "execution_count": 118,
   "metadata": {},
   "outputs": [
    {
     "name": "stdout",
     "output_type": "stream",
     "text": [
      "5653\n",
      "120769\n"
     ]
    },
    {
     "data": {
      "image/png": "[encoded data removed]",
      "text/plain": [
       "<Figure size 432x288 with 1 Axes>"
      ]
     },
     "metadata": {
      "needs_background": "light"
     },
     "output_type": "display_data"
    }
   ],
   "source": [
    "def plot_closed(y_class):\n",
    "    count_1s = 0\n",
    "    count_0s = 0\n",
    "    for i in y_class:\n",
    "        if i == 1:\n",
    "            count_1s += 1\n",
    "        else:\n",
    "            count_0s += 1\n",
    "    print(count_1s)\n",
    "    print(count_0s)\n",
    "    sns.barplot(x=[\"Closed\", \"Not closed\"], y=[count_1s, count_0s])\n",
    "\n",
    "\n",
    "y_true_2 = transform_y_2(q_data)     \n",
    "plot_closed(y_true_2)"
   ]
  },
  {
   "cell_type": "markdown",
   "metadata": {},
   "source": [
    "### Split de datos"
   ]
  },
  {
   "cell_type": "code",
   "execution_count": 57,
   "metadata": {},
   "outputs": [],
   "source": [
    "q_train_2, q_test_2, q_validation_2 = split_train_test_validation(q_data)"
   ]
  },
  {
   "cell_type": "markdown",
   "metadata": {},
   "source": [
    "### Calculo de Weight de las 2 clases a predecir"
   ]
  },
  {
   "cell_type": "code",
   "execution_count": 59,
   "metadata": {},
   "outputs": [
    {
     "data": {
      "text/plain": [
       "array([[ 0.52303183, 11.35454182]])"
      ]
     },
     "execution_count": 59,
     "metadata": {},
     "output_type": "execute_result"
    }
   ],
   "source": [
    "y_real_2 = transform_y_2(q_train_2)\n",
    "class_weight_2 = np.empty([1, 2])\n",
    "class_weight_2[0] = compute_class_weight('balanced', [0.,1.], y_real_2)\n",
    "class_weight_2"
   ]
  },
  {
   "cell_type": "markdown",
   "metadata": {},
   "source": [
    "### Construcción del modelo"
   ]
  },
  {
   "cell_type": "code",
   "execution_count": 102,
   "metadata": {},
   "outputs": [],
   "source": [
    "input_size_2 = 425\n",
    "output_size_2 = 1\n",
    "closed_q_batch_size = 150\n",
    "\n",
    "def get_custom_model_2(input_size, output_size):\n",
    "    model = Sequential()\n",
    "    model.add(Dense(input_size, activation='relu', input_shape=(input_size,)))\n",
    "    model.add(Dense(int(input_size*1.5), activation='relu'))\n",
    "    model.add(Dense(int(input_size*0.50), activation='relu'))\n",
    "    model.add(Dense(output_size, activation='sigmoid'))\n",
    "    \n",
    "    model.compile(loss=get_weighted_loss(class_weight_2), optimizer='adam')\n",
    "    return model"
   ]
  },
  {
   "cell_type": "code",
   "execution_count": 103,
   "metadata": {},
   "outputs": [
    {
     "name": "stdout",
     "output_type": "stream",
     "text": [
      "Model: \"sequential_7\"\n",
      "_________________________________________________________________\n",
      "Layer (type)                 Output Shape              Param #   \n",
      "=================================================================\n",
      "dense_23 (Dense)             (None, 425)               181050    \n",
      "_________________________________________________________________\n",
      "dense_24 (Dense)             (None, 637)               271362    \n",
      "_________________________________________________________________\n",
      "dense_25 (Dense)             (None, 212)               135256    \n",
      "_________________________________________________________________\n",
      "dense_26 (Dense)             (None, 1)                 213       \n",
      "=================================================================\n",
      "Total params: 587,881\n",
      "Trainable params: 587,881\n",
      "Non-trainable params: 0\n",
      "_________________________________________________________________\n"
     ]
    }
   ],
   "source": [
    "model_2 = get_custom_model_2(input_size_2, output_size_2)\n",
    "model_2.summary()"
   ]
  },
  {
   "cell_type": "code",
   "execution_count": 104,
   "metadata": {},
   "outputs": [],
   "source": [
    "generator_2 = DataSequence(q_train_2, q_train_2, closed_q_batch_size, transform_x_2, transform_y_2)\n",
    "generator_validation_2 = DataSequence(q_validation_2, q_validation_2, closed_q_batch_size, transform_x_2, transform_y_2)"
   ]
  },
  {
   "cell_type": "code",
   "execution_count": 106,
   "metadata": {},
   "outputs": [
    {
     "name": "stdout",
     "output_type": "stream",
     "text": [
      "Epoch 1/5\n",
      "379/379 [==============================] - 113s 297ms/step - loss: 0.2878 - val_loss: 1.1432\n",
      "Epoch 2/5\n",
      "379/379 [==============================] - 106s 280ms/step - loss: 0.1687 - val_loss: 1.1417\n",
      "Epoch 3/5\n",
      "379/379 [==============================] - 107s 283ms/step - loss: 0.1136 - val_loss: 1.8430\n",
      "Epoch 4/5\n",
      "379/379 [==============================] - 111s 293ms/step - loss: 0.0805 - val_loss: 2.2047\n",
      "Epoch 5/5\n",
      "379/379 [==============================] - 104s 276ms/step - loss: 0.0546 - val_loss: 3.4507\n"
     ]
    },
    {
     "data": {
      "text/plain": [
       "<keras.callbacks.callbacks.History at 0x7fc3ea8d52b0>"
      ]
     },
     "execution_count": 106,
     "metadata": {},
     "output_type": "execute_result"
    }
   ],
   "source": [
    "model_2.fit_generator(\n",
    "    generator_2,\n",
    "    workers = 10,\n",
    "    use_multiprocessing = True,\n",
    "    epochs=5,\n",
    "    validation_data=generator_validation_2,\n",
    "    validation_steps=len(generator_validation_2)\n",
    ")"
   ]
  },
  {
   "cell_type": "markdown",
   "metadata": {},
   "source": [
    "### Metricas del modelo"
   ]
  },
  {
   "cell_type": "code",
   "execution_count": 98,
   "metadata": {},
   "outputs": [],
   "source": [
    "def get_max_threshold(y_true, y_pred):\n",
    "    precisions, recalls, thresholds = precision_recall_curve(y_true, y_pred)\n",
    "    j = precisions[:-1].argmax()\n",
    "    return thresholds[j]"
   ]
  },
  {
   "cell_type": "code",
   "execution_count": 107,
   "metadata": {},
   "outputs": [],
   "source": [
    "generator_validation_2 = DataSequence(q_validation_2, q_validation_2, closed_q_batch_size, transform_x_2, transform_y_2)\n",
    "\n",
    "preds_validation_2 = model_2.predict_generator(generator_validation_2)\n",
    "\n",
    "\n",
    "y_true_validation_2 = transform_y_2(q_validation_2).astype(int)\n",
    "\n",
    "\n",
    "th = get_max_threshold(y_true_validation_2,preds_validation_2)\n",
    "\n",
    "\n",
    "generator_test_2 = DataSequence(q_test_2, q_test_2, closed_q_batch_size, transform_x_2, transform_y_2)\n",
    "\n",
    "preds_test_2 = model_2.predict_generator(generator_test_2)\n",
    "preds_test_2 = [1 if p >= th else 0 for p in preds_test_2]\n",
    "\n",
    "y_true_test_2 = transform_y_2(q_test_2).astype(int)\n",
    "\n"
   ]
  },
  {
   "cell_type": "code",
   "execution_count": 117,
   "metadata": {},
   "outputs": [
    {
     "name": "stdout",
     "output_type": "stream",
     "text": [
      "precision: 1.0\n",
      "recall: 0.003188097768331562\n",
      "confusion matrix: \n",
      "              precision    recall  f1-score   support\n",
      "\n",
      "           0       0.96      1.00      0.98     39838\n",
      "           1       1.00      0.00      0.01      1882\n",
      "\n",
      "    accuracy                           0.96     41720\n",
      "   macro avg       0.98      0.50      0.49     41720\n",
      "weighted avg       0.96      0.96      0.93     41720\n",
      "\n"
     ]
    }
   ],
   "source": [
    "precision = precision_score(y_true_test_2, preds_test_2)\n",
    "recall = recall_score(y_true_test_2, preds_test_2)\n",
    "report = classification_report(y_true_test_2, preds_test_2)\n",
    "\n",
    "print('precision: ' + str(precision))\n",
    "print('recall: '+ str(recall))\n",
    "print('confusion matrix: ')\n",
    "print(report)"
   ]
  }
 ],
 "metadata": {
  "kernelspec": {
   "display_name": "Python 3",
   "language": "python",
   "name": "python3"
  },
  "language_info": {
   "codemirror_mode": {
    "name": "ipython",
    "version": 3
   },
   "file_extension": ".py",
   "mimetype": "text/x-python",
   "name": "python",
   "nbconvert_exporter": "python",
   "pygments_lexer": "ipython3",
   "version": "3.7.3"
  }
 },
 "nbformat": 4,
 "nbformat_minor": 2
}
